{
 "cells": [
  {
   "cell_type": "markdown",
   "metadata": {
    "collapsed": true
   },
   "source": [
    "## Конкурс по анализу тональности текста - Стрижов Григорий - CS"
   ]
  },
  {
   "cell_type": "markdown",
   "metadata": {},
   "source": [
    "Я начал с того, что попробовал нейросеть над самыми частотными словами. А точнее не с этого, а с того, что добавил параметр quoting=csv.QUOTE_NONE в csv.reader из baseline. Если этого не сделать, то некоторые объекты обучающей выборки будут слипаться в один из-за неправильно расставленных кавычек.\n",
    "\n",
    "С нейросетями мне удалось добиться точности 0.56. Я использовал стоп-слова и стеммер из nltk. Без них точность была ещё меньше.\n",
    "\n",
    "После чего я стал гуглить и искать как решают подобные задачи на kaggle. Так я наткнулся на хорошую идею - использовать не частотные слова, а TfidfVectorizer. Я знал об этой штуке и раньше, но гугл помог вспомнить. Признаков в векторах получается достаточно много, поэтому я не придумал как запихнуть их в нейросеть и решил ограничиться более простыми моделями. Начал с того, что обучил логистическую регрессию с tfidf векторизацией, в которой использовались только униграммы. Таким образом я получил точность 0.58. \n",
    "\n",
    "Я попробовал не использовать стоп-слова и стеммер и обнаружил, что от стеммера вообще ничего не зависит, а без стоп-слов качество становится чуть лучше. После такого наблюдения я перестал как либо предобрабатывать текст и решил повысить \"граммность\" признаков. \n",
    "\n",
    "Времени до конца конкурса уже оставалось очень мало, а подозрения, что количество грамм может что-то улучшить были. Поскольку памяти у меня много, то я решил сразу взять триграммы (1, 2 и 3-граммы. 4-граммы не рискнул). \n",
    "\n",
    "Лучший результат дала логистическая регрессия с параметрами C=3.25 и class_weight='balanced'. Качество классификации было 0.605. Кроме неё я пробовал Наивный Байес и линейный SVM. Байес дал результат почти на 2% хуже, а SVMа я так и не дождался.\n",
    "\n",
    "В итоге я решил успокоиться, т.к. был в целом доволен результатом 0.605. Осталось только настекать модель!\n",
    "\n",
    "Я разбил обучающую выборку на 5 частей. После чего на 4х частях учился, а для пятой делал предсказание вероятности с помощью уже обученной модели. И так для каждой 1/5 выборки. Для теста я просто обучился на train, и сделал предсказание. В итоге я получил 5 новых признаков для каждого объекта выборки.\n",
    "\n",
    "Над новыми признаками я решил обучить что-нибудь нелинейное, поскольку композиция линейных моделей это линейная модель. В итоге выбор был между XGboost и RandomForest. XGboost требует более тонкой настройки и более чувствителен к шумам, поэтому я решил положиться на RandomForest. Итого я имел выборку с векторами длины 5 и RandomForest. Как я ни старался, а результат при стекинге не улучшился ни на %. Что можно сделать в таком случае? Ну, например, добавить признаков. Я решил взять квадратичные признаки, использовав sklearn.preprocessing.PolynomialFeatures. Первую координату я отрезал, т.к. она у всех векторов одинаковая и равна 1 (нулевые степени). Получились векторы длины 20. И вот над ними стекинг дал прирост 1.2 %. Итоговая точность на кроссвалидации была 0.617096566649. Параметры RandomForest: 1000 деревьев (я решил зафиксировать побольше и подгоняться под это количество для стабильности), максимальная глубина: 8, 'max_features': 3.\n",
    "\n",
    "В итоге я занял 7е место на public и на private. Точность на private: 0.62684. На паблике: 0.62607."
   ]
  },
  {
   "cell_type": "code",
   "execution_count": 109,
   "metadata": {
    "collapsed": false
   },
   "outputs": [],
   "source": [
    "import nltk\n",
    "import numpy as np\n",
    "import csv\n",
    "from sklearn.feature_extraction.text import TfidfVectorizer\n",
    "from sklearn.model_selection import GridSearchCV\n",
    "from sklearn.linear_model import LogisticRegression\n",
    "from sklearn.preprocessing import normalize\n",
    "from scipy.sparse import vstack\n",
    "import pickle\n",
    "from sklearn.preprocessing import PolynomialFeatures\n",
    "from sklearn.ensemble import RandomForestClassifier"
   ]
  },
  {
   "cell_type": "code",
   "execution_count": 89,
   "metadata": {
    "collapsed": true
   },
   "outputs": [],
   "source": [
    "def serialize(data, filename):\n",
    "    with open(filename, 'wb') as pklfile:\n",
    "        pickle.dump(data, pklfile)\n",
    "        \n",
    "        \n",
    "def get_serialized_data(filename):\n",
    "    with open(filename, 'rb') as pklfile:\n",
    "        return pickle.load(pklfile)"
   ]
  },
  {
   "cell_type": "code",
   "execution_count": 2,
   "metadata": {
    "collapsed": false
   },
   "outputs": [],
   "source": [
    "train_file = csv.reader(open('train.data'), delimiter='\\t', quoting=csv.QUOTE_NONE)\n",
    "next(train_file)\n",
    "train_set = [x for x in train_file]\n",
    "test_file = csv.reader(open('test.data'), delimiter='\\t', quoting=csv.QUOTE_NONE)\n",
    "next(test_file)\n",
    "test_set = [x for x in test_file]"
   ]
  },
  {
   "cell_type": "code",
   "execution_count": 3,
   "metadata": {
    "collapsed": false
   },
   "outputs": [],
   "source": [
    "train_data, train_label = [line[2] for line in train_set], [line[1] for line in train_set]\n",
    "test_data = [line[1] for line in test_set]"
   ]
  },
  {
   "cell_type": "code",
   "execution_count": 4,
   "metadata": {
    "collapsed": false
   },
   "outputs": [
    {
     "data": {
      "text/plain": [
       "102582"
      ]
     },
     "execution_count": 4,
     "metadata": {},
     "output_type": "execute_result"
    }
   ],
   "source": [
    "len(train_data)"
   ]
  },
  {
   "cell_type": "code",
   "execution_count": 5,
   "metadata": {
    "collapsed": true
   },
   "outputs": [],
   "source": [
    "x_train_and_test = TfidfVectorizer(ngram_range=(1, 3), min_df=3).fit_transform(train_data + test_data)"
   ]
  },
  {
   "cell_type": "code",
   "execution_count": 6,
   "metadata": {
    "collapsed": true
   },
   "outputs": [],
   "source": [
    "x_train_and_test = normalize(x_train_and_test)"
   ]
  },
  {
   "cell_type": "code",
   "execution_count": 7,
   "metadata": {
    "collapsed": false
   },
   "outputs": [],
   "source": [
    "x_train = x_train_and_test[:102582]\n",
    "x_test = x_train_and_test[102582:]"
   ]
  },
  {
   "cell_type": "code",
   "execution_count": 8,
   "metadata": {
    "collapsed": false
   },
   "outputs": [
    {
     "name": "stdout",
     "output_type": "stream",
     "text": [
      "(102582, 1825915)\n",
      "(34194, 1825915)\n"
     ]
    }
   ],
   "source": [
    "print(x_train.shape)\n",
    "print(x_test.shape)"
   ]
  },
  {
   "cell_type": "code",
   "execution_count": 9,
   "metadata": {
    "collapsed": false,
    "scrolled": true
   },
   "outputs": [
    {
     "name": "stdout",
     "output_type": "stream",
     "text": [
      "(136776, 1825915)\n"
     ]
    }
   ],
   "source": [
    "print(x_train_and_test.shape)"
   ]
  },
  {
   "cell_type": "code",
   "execution_count": 10,
   "metadata": {
    "collapsed": false
   },
   "outputs": [],
   "source": [
    "h#from sklearn.cross_validation import train_test_split\n",
    "#x_train, x_validate, y_train, y_validate = train_test_split(x_train, train_label, test_size=0.5, random_state=42)"
   ]
  },
  {
   "cell_type": "code",
   "execution_count": 11,
   "metadata": {
    "collapsed": true
   },
   "outputs": [],
   "source": [
    "test_id = [x[0] for x in test_set]"
   ]
  },
  {
   "cell_type": "code",
   "execution_count": 12,
   "metadata": {
    "collapsed": false,
    "scrolled": true
   },
   "outputs": [
    {
     "name": "stdout",
     "output_type": "stream",
     "text": [
      "Fitting 5 folds for each of 50 candidates, totalling 250 fits\n",
      "[CV] C=1e-05, class_weight=balanced ..................................\n",
      "[CV] C=1e-05, class_weight=balanced ..................................\n",
      "[CV] C=1e-05, class_weight=balanced ..................................\n",
      "[CV] C=1e-05, class_weight=balanced ..................................\n",
      "[CV] C=1e-05, class_weight=balanced ..................................\n",
      "[CV] C=2.02358964773e-05, class_weight=balanced ......................\n",
      "[CV] C=2.02358964773e-05, class_weight=balanced ......................\n",
      "[CV] C=2.02358964773e-05, class_weight=balanced ......................\n",
      "[CV]  C=2.02358964773e-05, class_weight=balanced, score=0.345485 -   0.5s\n",
      "[CV] C=2.02358964773e-05, class_weight=balanced ......................\n",
      "[Parallel(n_jobs=-1)]: Done   1 tasks      | elapsed:   55.0s\n",
      "[CV]  C=2.02358964773e-05, class_weight=balanced, score=0.345486 -   0.4s\n",
      "[Parallel(n_jobs=-1)]: Done   2 tasks      | elapsed:   55.5s\n",
      "[CV] C=2.02358964773e-05, class_weight=balanced ......................\n",
      "[CV]  C=2.02358964773e-05, class_weight=balanced, score=0.345502 -   0.5s\n",
      "[Parallel(n_jobs=-1)]: Done   3 tasks      | elapsed:   56.2s\n",
      "[CV] C=4.09491506238e-05, class_weight=balanced ......................\n",
      "[CV] ......... C=1e-05, class_weight=balanced, score=0.345485 -   0.4s\n",
      "[Parallel(n_jobs=-1)]: Done   4 tasks      | elapsed:   57.0s\n",
      "[CV] C=4.09491506238e-05, class_weight=balanced ......................\n",
      "[CV] ......... C=1e-05, class_weight=balanced, score=0.345502 -   0.5s\n",
      "[Parallel(n_jobs=-1)]: Done   5 tasks      | elapsed:   57.6s\n",
      "[CV] C=4.09491506238e-05, class_weight=balanced ......................\n",
      "[CV] ......... C=1e-05, class_weight=balanced, score=0.345486 -   0.6s\n",
      "[CV] C=4.09491506238e-05, class_weight=balanced ......................\n",
      "[Parallel(n_jobs=-1)]: Done   6 tasks      | elapsed:  1.0min\n",
      "[CV] ......... C=1e-05, class_weight=balanced, score=0.345520 -   0.5s\n",
      "[CV] ......... C=1e-05, class_weight=balanced, score=0.345503 -   0.6s\n",
      "[CV] C=4.09491506238e-05, class_weight=balanced ......................\n",
      "[Parallel(n_jobs=-1)]: Done   7 tasks      | elapsed:  1.1min\n",
      "[Parallel(n_jobs=-1)]: Done   8 tasks      | elapsed:  1.1min\n",
      "[CV] C=8.28642772855e-05, class_weight=balanced ......................\n",
      "[CV]  C=2.02358964773e-05, class_weight=balanced, score=0.345503 -   0.5s\n",
      "[CV] C=8.28642772855e-05, class_weight=balanced ......................\n",
      "[Parallel(n_jobs=-1)]: Done   9 tasks      | elapsed:  1.8min\n",
      "[CV]  C=2.02358964773e-05, class_weight=balanced, score=0.345520 -   0.5s\n",
      "[Parallel(n_jobs=-1)]: Done  10 tasks      | elapsed:  1.8min\n",
      "[CV] C=8.28642772855e-05, class_weight=balanced ......................\n",
      "[CV]  C=4.09491506238e-05, class_weight=balanced, score=0.345485 -   0.4s\n",
      "[CV] C=8.28642772855e-05, class_weight=balanced ......................\n",
      "[Parallel(n_jobs=-1)]: Done  11 tasks      | elapsed:  1.9min\n",
      "[CV]  C=4.09491506238e-05, class_weight=balanced, score=0.345502 -   0.5s\n",
      "[CV] C=8.28642772855e-05, class_weight=balanced ......................\n",
      "[Parallel(n_jobs=-1)]: Done  12 tasks      | elapsed:  1.9min\n",
      "[CV]  C=4.09491506238e-05, class_weight=balanced, score=0.345486 -   0.6s\n",
      "[CV] C=0.000167683293681, class_weight=balanced ......................\n",
      "[Parallel(n_jobs=-1)]: Done  13 tasks      | elapsed:  1.9min\n",
      "[CV]  C=4.09491506238e-05, class_weight=balanced, score=0.345503 -   0.7s\n",
      "[CV] C=0.000167683293681, class_weight=balanced ......................\n",
      "[Parallel(n_jobs=-1)]: Done  14 tasks      | elapsed:  2.0min\n",
      "[CV]  C=4.09491506238e-05, class_weight=balanced, score=0.345520 -   0.5s\n",
      "[CV] C=0.000167683293681, class_weight=balanced ......................\n",
      "[Parallel(n_jobs=-1)]: Done  15 tasks      | elapsed:  2.0min\n",
      "[CV]  C=8.28642772855e-05, class_weight=balanced, score=0.345485 -   0.5s\n",
      "[CV] C=0.000167683293681, class_weight=balanced ......................\n",
      "[Parallel(n_jobs=-1)]: Done  16 tasks      | elapsed:  2.2min\n",
      "[CV]  C=8.28642772855e-05, class_weight=balanced, score=0.345502 -   0.6s\n",
      "[CV] C=0.000167683293681, class_weight=balanced ......................\n",
      "[Parallel(n_jobs=-1)]: Done  17 tasks      | elapsed:  2.9min\n",
      "[CV]  C=8.28642772855e-05, class_weight=balanced, score=0.345486 -   0.5s\n",
      "[CV] C=0.00033932217719, class_weight=balanced .......................\n",
      "[Parallel(n_jobs=-1)]: Done  18 tasks      | elapsed:  2.9min\n",
      "[CV]  C=8.28642772855e-05, class_weight=balanced, score=0.345503 -   0.5s\n",
      "[CV] C=0.00033932217719, class_weight=balanced .......................\n",
      "[Parallel(n_jobs=-1)]: Done  19 tasks      | elapsed:  3.0min\n",
      "[CV]  C=8.28642772855e-05, class_weight=balanced, score=0.345520 -   0.4s\n",
      "[CV] C=0.00033932217719, class_weight=balanced .......................\n",
      "[Parallel(n_jobs=-1)]: Done  20 tasks      | elapsed:  3.1min\n",
      "[CV]  C=0.000167683293681, class_weight=balanced, score=0.345502 -   0.5s\n",
      "[CV] C=0.00033932217719, class_weight=balanced .......................\n",
      "[Parallel(n_jobs=-1)]: Done  21 tasks      | elapsed:  3.2min\n",
      "[CV]  C=0.000167683293681, class_weight=balanced, score=0.345485 -   0.5s\n",
      "[Parallel(n_jobs=-1)]: Done  22 tasks      | elapsed:  3.2min\n",
      "[CV] C=0.00033932217719, class_weight=balanced .......................\n",
      "[CV]  C=0.000167683293681, class_weight=balanced, score=0.345486 -   0.5s\n",
      "[CV] C=0.000686648845004, class_weight=balanced ......................\n",
      "[Parallel(n_jobs=-1)]: Done  23 tasks      | elapsed:  3.3min\n",
      "[CV]  C=0.000167683293681, class_weight=balanced, score=0.345503 -   0.5s\n",
      "[CV] C=0.000686648845004, class_weight=balanced ......................\n",
      "[Parallel(n_jobs=-1)]: Done  24 tasks      | elapsed:  3.4min\n",
      "[CV]  C=0.000167683293681, class_weight=balanced, score=0.345520 -   0.5s\n",
      "[CV] C=0.000686648845004, class_weight=balanced ......................\n",
      "[Parallel(n_jobs=-1)]: Done  25 tasks      | elapsed:  4.2min\n",
      "[CV]  C=0.00033932217719, class_weight=balanced, score=0.345485 -   0.5s\n",
      "[CV] C=0.000686648845004, class_weight=balanced ......................\n",
      "[Parallel(n_jobs=-1)]: Done  26 tasks      | elapsed:  4.4min\n",
      "[CV]  C=0.00033932217719, class_weight=balanced, score=0.345502 -   0.4s\n",
      "[CV] C=0.000686648845004, class_weight=balanced ......................\n",
      "[Parallel(n_jobs=-1)]: Done  27 tasks      | elapsed:  4.4min\n",
      "[CV]  C=0.00033932217719, class_weight=balanced, score=0.345486 -   0.5s\n",
      "[CV] C=0.00138949549437, class_weight=balanced .......................\n",
      "[Parallel(n_jobs=-1)]: Done  28 tasks      | elapsed:  4.5min\n",
      "[CV]  C=0.00033932217719, class_weight=balanced, score=0.345503 -   0.5s\n",
      "[CV] C=0.00138949549437, class_weight=balanced .......................\n",
      "[Parallel(n_jobs=-1)]: Done  29 tasks      | elapsed:  4.6min\n",
      "[CV]  C=0.00033932217719, class_weight=balanced, score=0.345520 -   0.5s\n",
      "[Parallel(n_jobs=-1)]: Done  30 tasks      | elapsed:  4.6min\n",
      "[CV] C=0.00138949549437, class_weight=balanced .......................\n",
      "[CV]  C=0.000686648845004, class_weight=balanced, score=0.345485 -   0.6s\n",
      "[CV] C=0.00138949549437, class_weight=balanced .......................\n",
      "[Parallel(n_jobs=-1)]: Done  31 tasks      | elapsed:  4.8min\n",
      "[CV]  C=0.000686648845004, class_weight=balanced, score=0.345502 -   0.4s\n",
      "[CV] C=0.00138949549437, class_weight=balanced .......................\n",
      "[Parallel(n_jobs=-1)]: Done  32 tasks      | elapsed:  5.0min\n",
      "[CV]  C=0.000686648845004, class_weight=balanced, score=0.345486 -   0.4s\n",
      "[CV] C=0.00281176869797, class_weight=balanced .......................\n",
      "[Parallel(n_jobs=-1)]: Done  33 tasks      | elapsed:  5.7min\n",
      "[CV]  C=0.000686648845004, class_weight=balanced, score=0.345520 -   0.5s\n",
      "[CV] C=0.00281176869797, class_weight=balanced .......................\n",
      "[Parallel(n_jobs=-1)]: Done  34 tasks      | elapsed:  5.9min\n",
      "[CV]  C=0.000686648845004, class_weight=balanced, score=0.345503 -   0.5s\n",
      "[CV] C=0.00281176869797, class_weight=balanced .......................\n",
      "[Parallel(n_jobs=-1)]: Done  35 tasks      | elapsed:  5.9min\n",
      "[CV]  C=0.00138949549437, class_weight=balanced, score=0.345485 -   0.5s\n",
      "[CV] C=0.00281176869797, class_weight=balanced .......................\n",
      "[Parallel(n_jobs=-1)]: Done  36 tasks      | elapsed:  6.0min\n",
      "[CV]  C=0.00138949549437, class_weight=balanced, score=0.345502 -   0.5s\n",
      "[CV] C=0.00281176869797, class_weight=balanced .......................\n",
      "[Parallel(n_jobs=-1)]: Done  37 tasks      | elapsed:  6.1min\n",
      "[CV]  C=0.00138949549437, class_weight=balanced, score=0.345486 -   0.5s\n",
      "[CV] C=0.00568986602902, class_weight=balanced .......................\n",
      "[Parallel(n_jobs=-1)]: Done  38 tasks      | elapsed:  6.1min\n",
      "[CV]  C=0.00138949549437, class_weight=balanced, score=0.345503 -   0.5s\n",
      "[CV] C=0.00568986602902, class_weight=balanced .......................\n",
      "[Parallel(n_jobs=-1)]: Done  39 tasks      | elapsed:  6.3min\n",
      "[CV]  C=0.00138949549437, class_weight=balanced, score=0.345520 -   0.6s\n",
      "[CV] C=0.00568986602902, class_weight=balanced .......................\n",
      "[Parallel(n_jobs=-1)]: Done  40 tasks      | elapsed:  6.5min\n",
      "[CV]  C=0.00281176869797, class_weight=balanced, score=0.355037 -   0.5s\n",
      "[CV] C=0.00568986602902, class_weight=balanced .......................\n",
      "[Parallel(n_jobs=-1)]: Done  41 tasks      | elapsed:  7.2min\n",
      "[CV]  C=0.00281176869797, class_weight=balanced, score=0.354762 -   0.5s\n",
      "[CV] C=0.00568986602902, class_weight=balanced .......................\n",
      "[Parallel(n_jobs=-1)]: Done  42 tasks      | elapsed:  7.5min\n",
      "[CV]  C=0.00281176869797, class_weight=balanced, score=0.354260 -   0.6s\n",
      "[CV] C=0.0115139539933, class_weight=balanced ........................\n",
      "[Parallel(n_jobs=-1)]: Done  43 tasks      | elapsed:  7.5min\n",
      "[CV]  C=0.00281176869797, class_weight=balanced, score=0.354277 -   0.5s\n",
      "[CV] C=0.0115139539933, class_weight=balanced ........................\n",
      "[Parallel(n_jobs=-1)]: Done  44 tasks      | elapsed:  7.6min\n",
      "[CV]  C=0.00281176869797, class_weight=balanced, score=0.355562 -   0.5s\n",
      "[CV] C=0.0115139539933, class_weight=balanced ........................\n",
      "[Parallel(n_jobs=-1)]: Done  45 tasks      | elapsed:  7.7min\n",
      "[CV]  C=0.00568986602902, class_weight=balanced, score=0.419904 -   0.6s\n",
      "[CV] C=0.0115139539933, class_weight=balanced ........................\n",
      "[Parallel(n_jobs=-1)]: Done  46 tasks      | elapsed:  8.0min\n",
      "[CV]  C=0.00568986602902, class_weight=balanced, score=0.417731 -   0.5s\n",
      "[CV] C=0.0115139539933, class_weight=balanced ........................\n",
      "[Parallel(n_jobs=-1)]: Done  47 tasks      | elapsed:  8.1min\n",
      "[CV]  C=0.00568986602902, class_weight=balanced, score=0.422548 -   0.6s\n",
      "[CV] C=0.0232995181052, class_weight=balanced ........................\n",
      "[Parallel(n_jobs=-1)]: Done  48 tasks      | elapsed:  8.4min\n",
      "[CV]  C=0.00568986602902, class_weight=balanced, score=0.421740 -   0.4s\n",
      "[CV] C=0.0232995181052, class_weight=balanced ........................\n",
      "[Parallel(n_jobs=-1)]: Done  49 tasks      | elapsed:  9.0min\n",
      "[CV]  C=0.00568986602902, class_weight=balanced, score=0.423954 -   0.5s\n",
      "[CV] C=0.0232995181052, class_weight=balanced ........................\n",
      "[Parallel(n_jobs=-1)]: Done  50 tasks      | elapsed:  9.3min\n",
      "[CV]  C=0.0115139539933, class_weight=balanced, score=0.476047 -   0.7s\n",
      "[CV] C=0.0232995181052, class_weight=balanced ........................\n",
      "[Parallel(n_jobs=-1)]: Done  51 tasks      | elapsed:  9.9min\n",
      "[CV]  C=0.0115139539933, class_weight=balanced, score=0.471099 -   0.5s\n",
      "[CV] C=0.0232995181052, class_weight=balanced ........................\n",
      "[Parallel(n_jobs=-1)]: Done  52 tasks      | elapsed:  9.9min\n",
      "[CV]  C=0.0115139539933, class_weight=balanced, score=0.476019 -   0.5s\n",
      "[CV] C=0.0471486636346, class_weight=balanced ........................\n",
      "[Parallel(n_jobs=-1)]: Done  53 tasks      | elapsed: 10.0min\n",
      "[CV]  C=0.0115139539933, class_weight=balanced, score=0.479405 -   0.6s\n",
      "[CV] C=0.0471486636346, class_weight=balanced ........................\n",
      "[Parallel(n_jobs=-1)]: Done  54 tasks      | elapsed: 10.4min\n",
      "[CV]  C=0.0115139539933, class_weight=balanced, score=0.482402 -   0.6s\n",
      "[CV] C=0.0471486636346, class_weight=balanced ........................\n",
      "[Parallel(n_jobs=-1)]: Done  55 tasks      | elapsed: 10.5min\n",
      "[CV]  C=0.0232995181052, class_weight=balanced, score=0.509040 -   0.5s\n",
      "[CV] C=0.0471486636346, class_weight=balanced ........................\n",
      "[Parallel(n_jobs=-1)]: Done  56 tasks      | elapsed: 11.1min\n",
      "[CV]  C=0.0232995181052, class_weight=balanced, score=0.506531 -   0.6s\n",
      "[CV] C=0.0471486636346, class_weight=balanced ........................\n",
      "[Parallel(n_jobs=-1)]: Done  57 tasks      | elapsed: 11.7min\n",
      "[CV]  C=0.0232995181052, class_weight=balanced, score=0.508579 -   0.5s\n",
      "[CV] C=0.095409547635, class_weight=balanced .........................\n",
      "[Parallel(n_jobs=-1)]: Done  58 tasks      | elapsed: 12.0min\n",
      "[CV]  C=0.0232995181052, class_weight=balanced, score=0.511479 -   0.5s\n",
      "[CV] C=0.095409547635, class_weight=balanced .........................\n",
      "[Parallel(n_jobs=-1)]: Done  59 tasks      | elapsed: 12.5min\n",
      "[CV]  C=0.0232995181052, class_weight=balanced, score=0.517646 -   0.4s\n",
      "[CV] C=0.095409547635, class_weight=balanced .........................\n",
      "[Parallel(n_jobs=-1)]: Done  60 tasks      | elapsed: 12.6min\n",
      "[CV]  C=0.0471486636346, class_weight=balanced, score=0.535699 -   0.5s\n",
      "[CV] C=0.095409547635, class_weight=balanced .........................\n",
      "[Parallel(n_jobs=-1)]: Done  61 tasks      | elapsed: 13.3min\n",
      "[CV]  C=0.0471486636346, class_weight=balanced, score=0.531192 -   0.5s\n",
      "[CV] C=0.095409547635, class_weight=balanced .........................\n",
      "[Parallel(n_jobs=-1)]: Done  62 tasks      | elapsed: 13.6min\n",
      "[CV]  C=0.0471486636346, class_weight=balanced, score=0.536849 -   0.4s\n",
      "[CV] C=0.193069772888, class_weight=balanced .........................\n",
      "[Parallel(n_jobs=-1)]: Done  63 tasks      | elapsed: 13.8min\n",
      "[CV]  C=0.0471486636346, class_weight=balanced, score=0.535803 -   0.6s\n",
      "[CV] C=0.193069772888, class_weight=balanced .........................\n",
      "[Parallel(n_jobs=-1)]: Done  64 tasks      | elapsed: 14.3min\n",
      "[CV]  C=0.0471486636346, class_weight=balanced, score=0.541581 -   0.7s\n",
      "[CV] C=0.193069772888, class_weight=balanced .........................\n",
      "[Parallel(n_jobs=-1)]: Done  65 tasks      | elapsed: 15.0min\n",
      "[CV]  C=0.095409547635, class_weight=balanced, score=0.554608 -   0.6s\n",
      "[CV] C=0.193069772888, class_weight=balanced .........................\n",
      "[Parallel(n_jobs=-1)]: Done  66 tasks      | elapsed: 15.6min\n",
      "[CV]  C=0.095409547635, class_weight=balanced, score=0.552393 -   0.5s\n",
      "[CV] C=0.193069772888, class_weight=balanced .........................\n",
      "[Parallel(n_jobs=-1)]: Done  67 tasks      | elapsed: 16.0min\n",
      "[CV]  C=0.095409547635, class_weight=balanced, score=0.558637 -   0.5s\n",
      "[CV] C=0.390693993705, class_weight=balanced .........................\n",
      "[Parallel(n_jobs=-1)]: Done  68 tasks      | elapsed: 16.2min\n",
      "[CV]  C=0.095409547635, class_weight=balanced, score=0.558762 -   0.4s\n",
      "[CV] C=0.390693993705, class_weight=balanced .........................\n",
      "[Parallel(n_jobs=-1)]: Done  69 tasks      | elapsed: 17.0min\n",
      "[CV]  C=0.095409547635, class_weight=balanced, score=0.559764 -   0.5s\n",
      "[CV] C=0.390693993705, class_weight=balanced .........................\n",
      "[Parallel(n_jobs=-1)]: Done  70 tasks      | elapsed: 17.3min\n",
      "[CV]  C=0.193069772888, class_weight=balanced, score=0.572104 -   0.4s\n",
      "[CV] C=0.390693993705, class_weight=balanced .........................\n",
      "[Parallel(n_jobs=-1)]: Done  71 tasks      | elapsed: 17.8min\n",
      "[CV]  C=0.193069772888, class_weight=balanced, score=0.569402 -   0.5s\n",
      "[CV] C=0.390693993705, class_weight=balanced .........................\n",
      "[Parallel(n_jobs=-1)]: Done  72 tasks      | elapsed: 18.3min\n",
      "[CV]  C=0.193069772888, class_weight=balanced, score=0.575453 -   0.4s\n",
      "[CV] C=0.790604321091, class_weight=balanced .........................\n",
      "[Parallel(n_jobs=-1)]: Done  73 tasks      | elapsed: 18.9min\n",
      "[CV]  C=0.193069772888, class_weight=balanced, score=0.578601 -   0.5s\n",
      "[CV] C=0.790604321091, class_weight=balanced .........................\n",
      "[Parallel(n_jobs=-1)]: Done  74 tasks      | elapsed: 19.6min\n",
      "[CV]  C=0.193069772888, class_weight=balanced, score=0.575461 -   0.5s\n",
      "[CV] C=0.790604321091, class_weight=balanced .........................\n",
      "[Parallel(n_jobs=-1)]: Done  75 tasks      | elapsed: 20.0min\n",
      "[CV]  C=0.390693993705, class_weight=balanced, score=0.582874 -   0.6s\n",
      "[CV] C=0.790604321091, class_weight=balanced .........................\n",
      "[Parallel(n_jobs=-1)]: Done  76 tasks      | elapsed: 21.2min\n",
      "[CV]  C=0.390693993705, class_weight=balanced, score=0.583585 -   0.6s\n",
      "[CV] C=0.790604321091, class_weight=balanced .........................\n",
      "[Parallel(n_jobs=-1)]: Done  77 tasks      | elapsed: 21.6min\n",
      "[CV]  C=0.390693993705, class_weight=balanced, score=0.587639 -   0.6s\n",
      "[CV] C=1.59985871961, class_weight=balanced ..........................\n",
      "[Parallel(n_jobs=-1)]: Done  78 tasks      | elapsed: 22.1min\n",
      "[CV]  C=0.390693993705, class_weight=balanced, score=0.591713 -   0.5s\n",
      "[CV] C=1.59985871961, class_weight=balanced ..........................\n",
      "[Parallel(n_jobs=-1)]: Done  79 tasks      | elapsed: 22.6min\n",
      "[CV]  C=0.390693993705, class_weight=balanced, score=0.587111 -   0.5s\n",
      "[CV] C=1.59985871961, class_weight=balanced ..........................\n",
      "[Parallel(n_jobs=-1)]: Done  80 tasks      | elapsed: 23.1min\n",
      "[CV]  C=0.790604321091, class_weight=balanced, score=0.594717 -   0.5s\n",
      "[CV] C=1.59985871961, class_weight=balanced ..........................\n",
      "[Parallel(n_jobs=-1)]: Done  81 tasks      | elapsed: 24.9min\n",
      "[CV]  C=0.790604321091, class_weight=balanced, score=0.594259 -   0.6s\n",
      "[CV] C=1.59985871961, class_weight=balanced ..........................\n",
      "[Parallel(n_jobs=-1)]: Done  82 tasks      | elapsed: 25.1min\n",
      "[CV]  C=0.790604321091, class_weight=balanced, score=0.597631 -   0.6s\n",
      "[CV] C=3.23745754282, class_weight=balanced ..........................\n",
      "[Parallel(n_jobs=-1)]: Done  83 tasks      | elapsed: 25.8min\n",
      "[CV]  C=0.790604321091, class_weight=balanced, score=0.601755 -   0.5s\n",
      "[CV] C=3.23745754282, class_weight=balanced ..........................\n",
      "[Parallel(n_jobs=-1)]: Done  84 tasks      | elapsed: 26.6min\n",
      "[CV]  C=0.790604321091, class_weight=balanced, score=0.597689 -   0.6s\n",
      "[CV] C=3.23745754282, class_weight=balanced ..........................\n",
      "[Parallel(n_jobs=-1)]: Done  85 tasks      | elapsed: 27.1min\n",
      "[CV] . C=1.59985871961, class_weight=balanced, score=0.601881 -   0.6s\n",
      "[CV] C=3.23745754282, class_weight=balanced ..........................\n",
      "[Parallel(n_jobs=-1)]: Done  86 tasks      | elapsed: 28.6min\n",
      "[CV] . C=1.59985871961, class_weight=balanced, score=0.600302 -   0.5s\n",
      "[CV] C=3.23745754282, class_weight=balanced ..........................\n",
      "[Parallel(n_jobs=-1)]: Done  87 tasks      | elapsed: 28.9min\n",
      "[CV] . C=1.59985871961, class_weight=balanced, score=0.604991 -   0.5s\n",
      "[CV] C=6.5512855686, class_weight=balanced ...........................\n",
      "[Parallel(n_jobs=-1)]: Done  88 tasks      | elapsed: 29.4min\n",
      "[CV] . C=1.59985871961, class_weight=balanced, score=0.606971 -   0.5s\n",
      "[CV] C=6.5512855686, class_weight=balanced ...........................\n",
      "[Parallel(n_jobs=-1)]: Done  89 tasks      | elapsed: 31.0min\n",
      "[CV] . C=1.59985871961, class_weight=balanced, score=0.603442 -   0.5s\n",
      "[CV] C=6.5512855686, class_weight=balanced ...........................\n",
      "[Parallel(n_jobs=-1)]: Done  90 tasks      | elapsed: 31.2min\n",
      "[CV] . C=3.23745754282, class_weight=balanced, score=0.603002 -   0.5s\n",
      "[CV] C=6.5512855686, class_weight=balanced ...........................\n",
      "[Parallel(n_jobs=-1)]: Done  91 tasks      | elapsed: 33.0min\n",
      "[CV] . C=3.23745754282, class_weight=balanced, score=0.600838 -   0.5s\n",
      "[CV] C=6.5512855686, class_weight=balanced ...........................\n",
      "[Parallel(n_jobs=-1)]: Done  92 tasks      | elapsed: 34.0min\n",
      "[CV] . C=3.23745754282, class_weight=balanced, score=0.607575 -   0.5s\n",
      "[CV] C=13.2571136559, class_weight=balanced ..........................\n",
      "[Parallel(n_jobs=-1)]: Done  93 tasks      | elapsed: 34.6min\n",
      "[CV] . C=3.23745754282, class_weight=balanced, score=0.608335 -   0.5s\n",
      "[CV] C=13.2571136559, class_weight=balanced ..........................\n",
      "[Parallel(n_jobs=-1)]: Done  94 tasks      | elapsed: 36.0min\n",
      "[CV] . C=3.23745754282, class_weight=balanced, score=0.606171 -   0.5s\n",
      "[CV] C=13.2571136559, class_weight=balanced ..........................\n",
      "[Parallel(n_jobs=-1)]: Done  95 tasks      | elapsed: 36.2min\n",
      "[CV] .. C=6.5512855686, class_weight=balanced, score=0.600712 -   0.4s\n",
      "[CV] C=13.2571136559, class_weight=balanced ..........................\n",
      "[Parallel(n_jobs=-1)]: Done  96 tasks      | elapsed: 37.4min\n",
      "[CV] .. C=6.5512855686, class_weight=balanced, score=0.597622 -   0.5s\n",
      "[CV] C=13.2571136559, class_weight=balanced ..........................\n",
      "[Parallel(n_jobs=-1)]: Done  97 tasks      | elapsed: 39.0min\n",
      "[CV] .. C=6.5512855686, class_weight=balanced, score=0.606161 -   0.5s\n",
      "[CV] C=26.8269579528, class_weight=balanced ..........................\n",
      "[Parallel(n_jobs=-1)]: Done  98 tasks      | elapsed: 39.7min\n",
      "[CV] .. C=6.5512855686, class_weight=balanced, score=0.606191 -   0.5s\n",
      "[CV] C=26.8269579528, class_weight=balanced ..........................\n",
      "[Parallel(n_jobs=-1)]: Done  99 tasks      | elapsed: 41.7min\n",
      "[CV] .. C=6.5512855686, class_weight=balanced, score=0.603393 -   0.6s\n",
      "[CV] C=26.8269579528, class_weight=balanced ..........................\n",
      "[Parallel(n_jobs=-1)]: Done 100 tasks      | elapsed: 42.8min\n",
      "[CV] . C=13.2571136559, class_weight=balanced, score=0.598470 -   0.5s\n",
      "[CV] C=26.8269579528, class_weight=balanced ..........................\n",
      "[Parallel(n_jobs=-1)]: Done 101 tasks      | elapsed: 44.2min\n",
      "[CV] . C=13.2571136559, class_weight=balanced, score=0.602652 -   0.5s\n",
      "[CV] C=26.8269579528, class_weight=balanced ..........................\n",
      "[Parallel(n_jobs=-1)]: Done 102 tasks      | elapsed: 45.6min\n",
      "[CV] . C=13.2571136559, class_weight=balanced, score=0.593771 -   0.5s\n",
      "[CV] C=54.2867543932, class_weight=balanced ..........................\n",
      "[Parallel(n_jobs=-1)]: Done 103 tasks      | elapsed: 45.9min\n",
      "[CV] . C=13.2571136559, class_weight=balanced, score=0.603705 -   0.5s\n",
      "[CV] C=54.2867543932, class_weight=balanced ..........................\n",
      "[Parallel(n_jobs=-1)]: Done 104 tasks      | elapsed: 47.3min\n",
      "[CV] . C=13.2571136559, class_weight=balanced, score=0.600809 -   0.5s\n",
      "[CV] C=54.2867543932, class_weight=balanced ..........................\n",
      "[Parallel(n_jobs=-1)]: Done 105 tasks      | elapsed: 48.4min\n",
      "[CV] . C=26.8269579528, class_weight=balanced, score=0.595497 -   0.5s\n",
      "[CV] C=54.2867543932, class_weight=balanced ..........................\n",
      "[Parallel(n_jobs=-1)]: Done 106 tasks      | elapsed: 50.7min\n",
      "[CV] . C=26.8269579528, class_weight=balanced, score=0.590652 -   0.5s\n",
      "[CV] C=54.2867543932, class_weight=balanced ..........................\n",
      "[Parallel(n_jobs=-1)]: Done 107 tasks      | elapsed: 52.5min\n",
      "[CV] . C=26.8269579528, class_weight=balanced, score=0.599483 -   0.5s\n",
      "[CV] C=109.854114199, class_weight=balanced ..........................\n",
      "[Parallel(n_jobs=-1)]: Done 108 tasks      | elapsed: 53.5min\n",
      "[CV] . C=26.8269579528, class_weight=balanced, score=0.600244 -   0.5s\n",
      "[CV] C=109.854114199, class_weight=balanced ..........................\n",
      "[Parallel(n_jobs=-1)]: Done 109 tasks      | elapsed: 54.9min\n",
      "[CV] . C=26.8269579528, class_weight=balanced, score=0.597738 -   0.6s\n",
      "[CV] C=109.854114199, class_weight=balanced ..........................\n",
      "[Parallel(n_jobs=-1)]: Done 110 tasks      | elapsed: 56.1min\n",
      "[CV] . C=54.2867543932, class_weight=balanced, score=0.594181 -   0.5s\n",
      "[CV] C=109.854114199, class_weight=balanced ..........................\n",
      "[Parallel(n_jobs=-1)]: Done 111 tasks      | elapsed: 57.6min\n",
      "[CV] . C=54.2867543932, class_weight=balanced, score=0.589385 -   0.7s\n",
      "[CV] C=109.854114199, class_weight=balanced ..........................\n",
      "[Parallel(n_jobs=-1)]: Done 112 tasks      | elapsed: 58.8min\n",
      "[CV] . C=54.2867543932, class_weight=balanced, score=0.596315 -   0.4s\n",
      "[CV] C=222.299648253, class_weight=balanced ..........................\n",
      "[Parallel(n_jobs=-1)]: Done 113 tasks      | elapsed: 59.5min\n",
      "[CV] . C=54.2867543932, class_weight=balanced, score=0.597270 -   0.4s\n",
      "[CV] C=222.299648253, class_weight=balanced ..........................\n",
      "[Parallel(n_jobs=-1)]: Done 114 tasks      | elapsed: 62.1min\n",
      "[CV] . C=54.2867543932, class_weight=balanced, score=0.595350 -   0.6s\n",
      "[CV] C=222.299648253, class_weight=balanced ..........................\n",
      "[Parallel(n_jobs=-1)]: Done 115 tasks      | elapsed: 64.2min\n",
      "[CV] . C=109.854114199, class_weight=balanced, score=0.591208 -   0.6s\n",
      "[CV] C=222.299648253, class_weight=balanced ..........................\n",
      "[Parallel(n_jobs=-1)]: Done 116 tasks      | elapsed: 66.0min\n",
      "[CV] . C=109.854114199, class_weight=balanced, score=0.586314 -   0.5s\n",
      "[CV] C=222.299648253, class_weight=balanced ..........................\n",
      "[Parallel(n_jobs=-1)]: Done 117 tasks      | elapsed: 67.1min\n",
      "[CV] . C=109.854114199, class_weight=balanced, score=0.594609 -   0.5s\n",
      "[CV] C=449.843266897, class_weight=balanced ..........................\n",
      "[Parallel(n_jobs=-1)]: Done 118 tasks      | elapsed: 68.6min\n",
      "[CV] . C=109.854114199, class_weight=balanced, score=0.594882 -   0.5s\n",
      "[CV] C=449.843266897, class_weight=balanced ..........................\n",
      "[Parallel(n_jobs=-1)]: Done 119 tasks      | elapsed: 69.5min\n",
      "[CV] . C=109.854114199, class_weight=balanced, score=0.593936 -   0.5s\n",
      "[CV] C=449.843266897, class_weight=balanced ..........................\n",
      "[Parallel(n_jobs=-1)]: Done 120 tasks      | elapsed: 70.0min\n",
      "[CV] . C=222.299648253, class_weight=balanced, score=0.588966 -   0.5s\n",
      "[CV] C=449.843266897, class_weight=balanced ..........................\n",
      "[Parallel(n_jobs=-1)]: Done 121 tasks      | elapsed: 72.0min\n",
      "[CV] . C=222.299648253, class_weight=balanced, score=0.584365 -   0.4s\n",
      "[CV] C=449.843266897, class_weight=balanced ..........................\n",
      "[Parallel(n_jobs=-1)]: Done 122 tasks      | elapsed: 74.1min\n",
      "[CV] . C=222.299648253, class_weight=balanced, score=0.592416 -   0.5s\n",
      "[CV] C=910.298177992, class_weight=balanced ..........................\n",
      "[Parallel(n_jobs=-1)]: Done 123 tasks      | elapsed: 76.6min\n",
      "[CV] . C=222.299648253, class_weight=balanced, score=0.592640 -   0.7s\n",
      "[CV] C=910.298177992, class_weight=balanced ..........................\n",
      "[Parallel(n_jobs=-1)]: Done 124 tasks      | elapsed: 78.4min\n",
      "[CV] . C=222.299648253, class_weight=balanced, score=0.591401 -   0.5s\n",
      "[CV] C=910.298177992, class_weight=balanced ..........................\n",
      "[Parallel(n_jobs=-1)]: Done 125 tasks      | elapsed: 79.5min\n",
      "[CV] . C=449.843266897, class_weight=balanced, score=0.586871 -   0.5s\n",
      "[CV] C=910.298177992, class_weight=balanced ..........................\n",
      "[Parallel(n_jobs=-1)]: Done 126 tasks      | elapsed: 80.7min\n",
      "[CV] . C=449.843266897, class_weight=balanced, score=0.583634 -   0.4s\n",
      "[CV] C=910.298177992, class_weight=balanced ..........................\n",
      "[Parallel(n_jobs=-1)]: Done 127 tasks      | elapsed: 81.4min\n",
      "[CV] . C=449.843266897, class_weight=balanced, score=0.591002 -   0.5s\n",
      "[CV] C=1842.06996933, class_weight=balanced ..........................\n",
      "[Parallel(n_jobs=-1)]: Done 128 tasks      | elapsed: 82.8min\n",
      "[CV] . C=449.843266897, class_weight=balanced, score=0.591421 -   0.7s\n",
      "[CV] C=1842.06996933, class_weight=balanced ..........................\n",
      "[Parallel(n_jobs=-1)]: Done 129 tasks      | elapsed: 84.5min\n",
      "[CV] . C=449.843266897, class_weight=balanced, score=0.589987 -   0.5s\n",
      "[CV] C=1842.06996933, class_weight=balanced ..........................\n",
      "[Parallel(n_jobs=-1)]: Done 130 tasks      | elapsed: 86.4min\n",
      "[CV] . C=910.298177992, class_weight=balanced, score=0.585165 -   0.6s\n",
      "[CV] C=1842.06996933, class_weight=balanced ..........................\n",
      "[Parallel(n_jobs=-1)]: Done 131 tasks      | elapsed: 89.3min\n",
      "[CV] . C=910.298177992, class_weight=balanced, score=0.582220 -   0.5s\n",
      "[CV] C=1842.06996933, class_weight=balanced ..........................\n",
      "[Parallel(n_jobs=-1)]: Done 132 tasks      | elapsed: 90.9min\n",
      "[CV] . C=910.298177992, class_weight=balanced, score=0.590368 -   0.5s\n",
      "[CV] C=3727.59372031, class_weight=balanced ..........................\n",
      "[Parallel(n_jobs=-1)]: Done 133 tasks      | elapsed: 91.3min\n",
      "[CV] . C=910.298177992, class_weight=balanced, score=0.588037 -   0.5s\n",
      "[CV] C=3727.59372031, class_weight=balanced ..........................\n",
      "[Parallel(n_jobs=-1)]: Done 134 tasks      | elapsed: 92.8min\n",
      "[CV] . C=910.298177992, class_weight=balanced, score=0.590690 -   0.5s\n",
      "[CV] C=3727.59372031, class_weight=balanced ..........................\n",
      "[Parallel(n_jobs=-1)]: Done 135 tasks      | elapsed: 93.0min\n",
      "[CV] . C=1842.06996933, class_weight=balanced, score=0.584726 -   0.4s\n",
      "[CV] C=3727.59372031, class_weight=balanced ..........................\n",
      "[Parallel(n_jobs=-1)]: Done 136 tasks      | elapsed: 95.0min\n",
      "[CV] . C=1842.06996933, class_weight=balanced, score=0.582123 -   0.6s\n",
      "[CV] C=3727.59372031, class_weight=balanced ..........................\n",
      "[Parallel(n_jobs=-1)]: Done 137 tasks      | elapsed: 96.4min\n",
      "[CV] . C=1842.06996933, class_weight=balanced, score=0.589979 -   0.5s\n",
      "[CV] C=7543.12006335, class_weight=balanced ..........................\n",
      "[Parallel(n_jobs=-1)]: Done 138 tasks      | elapsed: 98.1min\n",
      "[CV] . C=1842.06996933, class_weight=balanced, score=0.588984 -   0.4s\n",
      "[CV] C=7543.12006335, class_weight=balanced ..........................\n",
      "[Parallel(n_jobs=-1)]: Done 139 tasks      | elapsed: 101.6min\n"
     ]
    },
    {
     "ename": "KeyboardInterrupt",
     "evalue": "",
     "output_type": "error",
     "traceback": [
      "\u001b[0;31m---------------------------------------------------------------------------\u001b[0m",
      "\u001b[0;31mKeyboardInterrupt\u001b[0m                         Traceback (most recent call last)",
      "\u001b[0;32m<ipython-input-12-f9fec4b7549e>\u001b[0m in \u001b[0;36m<module>\u001b[0;34m()\u001b[0m\n\u001b[1;32m      1\u001b[0m \u001b[0mparameters\u001b[0m \u001b[0;34m=\u001b[0m \u001b[0;34m{\u001b[0m\u001b[0;34m'C'\u001b[0m\u001b[0;34m:\u001b[0m \u001b[0mnp\u001b[0m\u001b[0;34m.\u001b[0m\u001b[0mlogspace\u001b[0m\u001b[0;34m(\u001b[0m\u001b[0;34m-\u001b[0m\u001b[0;36m5\u001b[0m\u001b[0;34m,\u001b[0m \u001b[0;36m10\u001b[0m\u001b[0;34m,\u001b[0m \u001b[0;36m50\u001b[0m\u001b[0;34m)\u001b[0m\u001b[0;34m,\u001b[0m \u001b[0;34m'class_weight'\u001b[0m\u001b[0;34m:\u001b[0m \u001b[0;34m[\u001b[0m\u001b[0;34m'balanced'\u001b[0m\u001b[0;34m]\u001b[0m\u001b[0;34m}\u001b[0m\u001b[0;34m\u001b[0m\u001b[0m\n\u001b[1;32m      2\u001b[0m \u001b[0mclf\u001b[0m \u001b[0;34m=\u001b[0m \u001b[0mGridSearchCV\u001b[0m\u001b[0;34m(\u001b[0m\u001b[0mLogisticRegression\u001b[0m\u001b[0;34m(\u001b[0m\u001b[0;34m)\u001b[0m\u001b[0;34m,\u001b[0m \u001b[0mparameters\u001b[0m\u001b[0;34m,\u001b[0m \u001b[0mverbose\u001b[0m\u001b[0;34m=\u001b[0m\u001b[0;36m50\u001b[0m\u001b[0;34m,\u001b[0m \u001b[0mscoring\u001b[0m\u001b[0;34m=\u001b[0m\u001b[0;34m'accuracy'\u001b[0m\u001b[0;34m,\u001b[0m \u001b[0mrefit\u001b[0m\u001b[0;34m=\u001b[0m\u001b[0;32mFalse\u001b[0m\u001b[0;34m,\u001b[0m \u001b[0mcv\u001b[0m\u001b[0;34m=\u001b[0m\u001b[0;36m5\u001b[0m\u001b[0;34m,\u001b[0m \u001b[0mn_jobs\u001b[0m\u001b[0;34m=\u001b[0m\u001b[0;34m-\u001b[0m\u001b[0;36m1\u001b[0m\u001b[0;34m)\u001b[0m\u001b[0;34m\u001b[0m\u001b[0m\n\u001b[0;32m----> 3\u001b[0;31m \u001b[0mclf\u001b[0m\u001b[0;34m.\u001b[0m\u001b[0mfit\u001b[0m\u001b[0;34m(\u001b[0m\u001b[0mx_train\u001b[0m\u001b[0;34m,\u001b[0m \u001b[0mtrain_label\u001b[0m\u001b[0;34m)\u001b[0m\u001b[0;34m\u001b[0m\u001b[0m\n\u001b[0m\u001b[1;32m      4\u001b[0m \u001b[0mprint\u001b[0m\u001b[0;34m(\u001b[0m\u001b[0mclf\u001b[0m\u001b[0;34m.\u001b[0m\u001b[0mbest_score_\u001b[0m\u001b[0;34m)\u001b[0m\u001b[0;34m\u001b[0m\u001b[0m\n\u001b[1;32m      5\u001b[0m \u001b[0mprint\u001b[0m\u001b[0;34m(\u001b[0m\u001b[0mclf\u001b[0m\u001b[0;34m.\u001b[0m\u001b[0mbest_estimator_\u001b[0m\u001b[0;34m)\u001b[0m\u001b[0;34m\u001b[0m\u001b[0m\n",
      "\u001b[0;32m/home/zelas/anaconda2/envs/python3/lib/python3.5/site-packages/sklearn/model_selection/_search.py\u001b[0m in \u001b[0;36mfit\u001b[0;34m(self, X, y, groups)\u001b[0m\n\u001b[1;32m    938\u001b[0m             \u001b[0mtrain\u001b[0m\u001b[0;34m/\u001b[0m\u001b[0mtest\u001b[0m \u001b[0mset\u001b[0m\u001b[0;34m.\u001b[0m\u001b[0;34m\u001b[0m\u001b[0m\n\u001b[1;32m    939\u001b[0m         \"\"\"\n\u001b[0;32m--> 940\u001b[0;31m         \u001b[0;32mreturn\u001b[0m \u001b[0mself\u001b[0m\u001b[0;34m.\u001b[0m\u001b[0m_fit\u001b[0m\u001b[0;34m(\u001b[0m\u001b[0mX\u001b[0m\u001b[0;34m,\u001b[0m \u001b[0my\u001b[0m\u001b[0;34m,\u001b[0m \u001b[0mgroups\u001b[0m\u001b[0;34m,\u001b[0m \u001b[0mParameterGrid\u001b[0m\u001b[0;34m(\u001b[0m\u001b[0mself\u001b[0m\u001b[0;34m.\u001b[0m\u001b[0mparam_grid\u001b[0m\u001b[0;34m)\u001b[0m\u001b[0;34m)\u001b[0m\u001b[0;34m\u001b[0m\u001b[0m\n\u001b[0m\u001b[1;32m    941\u001b[0m \u001b[0;34m\u001b[0m\u001b[0m\n\u001b[1;32m    942\u001b[0m \u001b[0;34m\u001b[0m\u001b[0m\n",
      "\u001b[0;32m/home/zelas/anaconda2/envs/python3/lib/python3.5/site-packages/sklearn/model_selection/_search.py\u001b[0m in \u001b[0;36m_fit\u001b[0;34m(self, X, y, groups, parameter_iterable)\u001b[0m\n\u001b[1;32m    560\u001b[0m                                   \u001b[0mreturn_times\u001b[0m\u001b[0;34m=\u001b[0m\u001b[0;32mTrue\u001b[0m\u001b[0;34m,\u001b[0m \u001b[0mreturn_parameters\u001b[0m\u001b[0;34m=\u001b[0m\u001b[0;32mTrue\u001b[0m\u001b[0;34m,\u001b[0m\u001b[0;34m\u001b[0m\u001b[0m\n\u001b[1;32m    561\u001b[0m                                   error_score=self.error_score)\n\u001b[0;32m--> 562\u001b[0;31m           \u001b[0;32mfor\u001b[0m \u001b[0mparameters\u001b[0m \u001b[0;32min\u001b[0m \u001b[0mparameter_iterable\u001b[0m\u001b[0;34m\u001b[0m\u001b[0m\n\u001b[0m\u001b[1;32m    563\u001b[0m           for train, test in cv.split(X, y, groups))\n\u001b[1;32m    564\u001b[0m \u001b[0;34m\u001b[0m\u001b[0m\n",
      "\u001b[0;32m/home/zelas/anaconda2/envs/python3/lib/python3.5/site-packages/sklearn/externals/joblib/parallel.py\u001b[0m in \u001b[0;36m__call__\u001b[0;34m(self, iterable)\u001b[0m\n\u001b[1;32m    766\u001b[0m                 \u001b[0;31m# consumption.\u001b[0m\u001b[0;34m\u001b[0m\u001b[0;34m\u001b[0m\u001b[0m\n\u001b[1;32m    767\u001b[0m                 \u001b[0mself\u001b[0m\u001b[0;34m.\u001b[0m\u001b[0m_iterating\u001b[0m \u001b[0;34m=\u001b[0m \u001b[0;32mFalse\u001b[0m\u001b[0;34m\u001b[0m\u001b[0m\n\u001b[0;32m--> 768\u001b[0;31m             \u001b[0mself\u001b[0m\u001b[0;34m.\u001b[0m\u001b[0mretrieve\u001b[0m\u001b[0;34m(\u001b[0m\u001b[0;34m)\u001b[0m\u001b[0;34m\u001b[0m\u001b[0m\n\u001b[0m\u001b[1;32m    769\u001b[0m             \u001b[0;31m# Make sure that we get a last message telling us we are done\u001b[0m\u001b[0;34m\u001b[0m\u001b[0;34m\u001b[0m\u001b[0m\n\u001b[1;32m    770\u001b[0m             \u001b[0melapsed_time\u001b[0m \u001b[0;34m=\u001b[0m \u001b[0mtime\u001b[0m\u001b[0;34m.\u001b[0m\u001b[0mtime\u001b[0m\u001b[0;34m(\u001b[0m\u001b[0;34m)\u001b[0m \u001b[0;34m-\u001b[0m \u001b[0mself\u001b[0m\u001b[0;34m.\u001b[0m\u001b[0m_start_time\u001b[0m\u001b[0;34m\u001b[0m\u001b[0m\n",
      "\u001b[0;32m/home/zelas/anaconda2/envs/python3/lib/python3.5/site-packages/sklearn/externals/joblib/parallel.py\u001b[0m in \u001b[0;36mretrieve\u001b[0;34m(self)\u001b[0m\n\u001b[1;32m    717\u001b[0m                     \u001b[0mensure_ready\u001b[0m \u001b[0;34m=\u001b[0m \u001b[0mself\u001b[0m\u001b[0;34m.\u001b[0m\u001b[0m_managed_backend\u001b[0m\u001b[0;34m\u001b[0m\u001b[0m\n\u001b[1;32m    718\u001b[0m                     \u001b[0mbackend\u001b[0m\u001b[0;34m.\u001b[0m\u001b[0mabort_everything\u001b[0m\u001b[0;34m(\u001b[0m\u001b[0mensure_ready\u001b[0m\u001b[0;34m=\u001b[0m\u001b[0mensure_ready\u001b[0m\u001b[0;34m)\u001b[0m\u001b[0;34m\u001b[0m\u001b[0m\n\u001b[0;32m--> 719\u001b[0;31m                 \u001b[0;32mraise\u001b[0m \u001b[0mexception\u001b[0m\u001b[0;34m\u001b[0m\u001b[0m\n\u001b[0m\u001b[1;32m    720\u001b[0m \u001b[0;34m\u001b[0m\u001b[0m\n\u001b[1;32m    721\u001b[0m     \u001b[0;32mdef\u001b[0m \u001b[0m__call__\u001b[0m\u001b[0;34m(\u001b[0m\u001b[0mself\u001b[0m\u001b[0;34m,\u001b[0m \u001b[0miterable\u001b[0m\u001b[0;34m)\u001b[0m\u001b[0;34m:\u001b[0m\u001b[0;34m\u001b[0m\u001b[0m\n",
      "\u001b[0;32m/home/zelas/anaconda2/envs/python3/lib/python3.5/site-packages/sklearn/externals/joblib/parallel.py\u001b[0m in \u001b[0;36mretrieve\u001b[0;34m(self)\u001b[0m\n\u001b[1;32m    680\u001b[0m                 \u001b[0;31m# check if timeout supported in backend future implementation\u001b[0m\u001b[0;34m\u001b[0m\u001b[0;34m\u001b[0m\u001b[0m\n\u001b[1;32m    681\u001b[0m                 \u001b[0;32mif\u001b[0m \u001b[0;34m'timeout'\u001b[0m \u001b[0;32min\u001b[0m \u001b[0mgetfullargspec\u001b[0m\u001b[0;34m(\u001b[0m\u001b[0mjob\u001b[0m\u001b[0;34m.\u001b[0m\u001b[0mget\u001b[0m\u001b[0;34m)\u001b[0m\u001b[0;34m.\u001b[0m\u001b[0margs\u001b[0m\u001b[0;34m:\u001b[0m\u001b[0;34m\u001b[0m\u001b[0m\n\u001b[0;32m--> 682\u001b[0;31m                     \u001b[0mself\u001b[0m\u001b[0;34m.\u001b[0m\u001b[0m_output\u001b[0m\u001b[0;34m.\u001b[0m\u001b[0mextend\u001b[0m\u001b[0;34m(\u001b[0m\u001b[0mjob\u001b[0m\u001b[0;34m.\u001b[0m\u001b[0mget\u001b[0m\u001b[0;34m(\u001b[0m\u001b[0mtimeout\u001b[0m\u001b[0;34m=\u001b[0m\u001b[0mself\u001b[0m\u001b[0;34m.\u001b[0m\u001b[0mtimeout\u001b[0m\u001b[0;34m)\u001b[0m\u001b[0;34m)\u001b[0m\u001b[0;34m\u001b[0m\u001b[0m\n\u001b[0m\u001b[1;32m    683\u001b[0m                 \u001b[0;32melse\u001b[0m\u001b[0;34m:\u001b[0m\u001b[0;34m\u001b[0m\u001b[0m\n\u001b[1;32m    684\u001b[0m                     \u001b[0mself\u001b[0m\u001b[0;34m.\u001b[0m\u001b[0m_output\u001b[0m\u001b[0;34m.\u001b[0m\u001b[0mextend\u001b[0m\u001b[0;34m(\u001b[0m\u001b[0mjob\u001b[0m\u001b[0;34m.\u001b[0m\u001b[0mget\u001b[0m\u001b[0;34m(\u001b[0m\u001b[0;34m)\u001b[0m\u001b[0;34m)\u001b[0m\u001b[0;34m\u001b[0m\u001b[0m\n",
      "\u001b[0;32m/home/zelas/anaconda2/envs/python3/lib/python3.5/multiprocessing/pool.py\u001b[0m in \u001b[0;36mget\u001b[0;34m(self, timeout)\u001b[0m\n\u001b[1;32m    600\u001b[0m \u001b[0;34m\u001b[0m\u001b[0m\n\u001b[1;32m    601\u001b[0m     \u001b[0;32mdef\u001b[0m \u001b[0mget\u001b[0m\u001b[0;34m(\u001b[0m\u001b[0mself\u001b[0m\u001b[0;34m,\u001b[0m \u001b[0mtimeout\u001b[0m\u001b[0;34m=\u001b[0m\u001b[0;32mNone\u001b[0m\u001b[0;34m)\u001b[0m\u001b[0;34m:\u001b[0m\u001b[0;34m\u001b[0m\u001b[0m\n\u001b[0;32m--> 602\u001b[0;31m         \u001b[0mself\u001b[0m\u001b[0;34m.\u001b[0m\u001b[0mwait\u001b[0m\u001b[0;34m(\u001b[0m\u001b[0mtimeout\u001b[0m\u001b[0;34m)\u001b[0m\u001b[0;34m\u001b[0m\u001b[0m\n\u001b[0m\u001b[1;32m    603\u001b[0m         \u001b[0;32mif\u001b[0m \u001b[0;32mnot\u001b[0m \u001b[0mself\u001b[0m\u001b[0;34m.\u001b[0m\u001b[0mready\u001b[0m\u001b[0;34m(\u001b[0m\u001b[0;34m)\u001b[0m\u001b[0;34m:\u001b[0m\u001b[0;34m\u001b[0m\u001b[0m\n\u001b[1;32m    604\u001b[0m             \u001b[0;32mraise\u001b[0m \u001b[0mTimeoutError\u001b[0m\u001b[0;34m\u001b[0m\u001b[0m\n",
      "\u001b[0;32m/home/zelas/anaconda2/envs/python3/lib/python3.5/multiprocessing/pool.py\u001b[0m in \u001b[0;36mwait\u001b[0;34m(self, timeout)\u001b[0m\n\u001b[1;32m    597\u001b[0m \u001b[0;34m\u001b[0m\u001b[0m\n\u001b[1;32m    598\u001b[0m     \u001b[0;32mdef\u001b[0m \u001b[0mwait\u001b[0m\u001b[0;34m(\u001b[0m\u001b[0mself\u001b[0m\u001b[0;34m,\u001b[0m \u001b[0mtimeout\u001b[0m\u001b[0;34m=\u001b[0m\u001b[0;32mNone\u001b[0m\u001b[0;34m)\u001b[0m\u001b[0;34m:\u001b[0m\u001b[0;34m\u001b[0m\u001b[0m\n\u001b[0;32m--> 599\u001b[0;31m         \u001b[0mself\u001b[0m\u001b[0;34m.\u001b[0m\u001b[0m_event\u001b[0m\u001b[0;34m.\u001b[0m\u001b[0mwait\u001b[0m\u001b[0;34m(\u001b[0m\u001b[0mtimeout\u001b[0m\u001b[0;34m)\u001b[0m\u001b[0;34m\u001b[0m\u001b[0m\n\u001b[0m\u001b[1;32m    600\u001b[0m \u001b[0;34m\u001b[0m\u001b[0m\n\u001b[1;32m    601\u001b[0m     \u001b[0;32mdef\u001b[0m \u001b[0mget\u001b[0m\u001b[0;34m(\u001b[0m\u001b[0mself\u001b[0m\u001b[0;34m,\u001b[0m \u001b[0mtimeout\u001b[0m\u001b[0;34m=\u001b[0m\u001b[0;32mNone\u001b[0m\u001b[0;34m)\u001b[0m\u001b[0;34m:\u001b[0m\u001b[0;34m\u001b[0m\u001b[0m\n",
      "\u001b[0;32m/home/zelas/anaconda2/envs/python3/lib/python3.5/threading.py\u001b[0m in \u001b[0;36mwait\u001b[0;34m(self, timeout)\u001b[0m\n\u001b[1;32m    547\u001b[0m             \u001b[0msignaled\u001b[0m \u001b[0;34m=\u001b[0m \u001b[0mself\u001b[0m\u001b[0;34m.\u001b[0m\u001b[0m_flag\u001b[0m\u001b[0;34m\u001b[0m\u001b[0m\n\u001b[1;32m    548\u001b[0m             \u001b[0;32mif\u001b[0m \u001b[0;32mnot\u001b[0m \u001b[0msignaled\u001b[0m\u001b[0;34m:\u001b[0m\u001b[0;34m\u001b[0m\u001b[0m\n\u001b[0;32m--> 549\u001b[0;31m                 \u001b[0msignaled\u001b[0m \u001b[0;34m=\u001b[0m \u001b[0mself\u001b[0m\u001b[0;34m.\u001b[0m\u001b[0m_cond\u001b[0m\u001b[0;34m.\u001b[0m\u001b[0mwait\u001b[0m\u001b[0;34m(\u001b[0m\u001b[0mtimeout\u001b[0m\u001b[0;34m)\u001b[0m\u001b[0;34m\u001b[0m\u001b[0m\n\u001b[0m\u001b[1;32m    550\u001b[0m             \u001b[0;32mreturn\u001b[0m \u001b[0msignaled\u001b[0m\u001b[0;34m\u001b[0m\u001b[0m\n\u001b[1;32m    551\u001b[0m \u001b[0;34m\u001b[0m\u001b[0m\n",
      "\u001b[0;32m/home/zelas/anaconda2/envs/python3/lib/python3.5/threading.py\u001b[0m in \u001b[0;36mwait\u001b[0;34m(self, timeout)\u001b[0m\n\u001b[1;32m    291\u001b[0m         \u001b[0;32mtry\u001b[0m\u001b[0;34m:\u001b[0m    \u001b[0;31m# restore state no matter what (e.g., KeyboardInterrupt)\u001b[0m\u001b[0;34m\u001b[0m\u001b[0m\n\u001b[1;32m    292\u001b[0m             \u001b[0;32mif\u001b[0m \u001b[0mtimeout\u001b[0m \u001b[0;32mis\u001b[0m \u001b[0;32mNone\u001b[0m\u001b[0;34m:\u001b[0m\u001b[0;34m\u001b[0m\u001b[0m\n\u001b[0;32m--> 293\u001b[0;31m                 \u001b[0mwaiter\u001b[0m\u001b[0;34m.\u001b[0m\u001b[0macquire\u001b[0m\u001b[0;34m(\u001b[0m\u001b[0;34m)\u001b[0m\u001b[0;34m\u001b[0m\u001b[0m\n\u001b[0m\u001b[1;32m    294\u001b[0m                 \u001b[0mgotit\u001b[0m \u001b[0;34m=\u001b[0m \u001b[0;32mTrue\u001b[0m\u001b[0;34m\u001b[0m\u001b[0m\n\u001b[1;32m    295\u001b[0m             \u001b[0;32melse\u001b[0m\u001b[0;34m:\u001b[0m\u001b[0;34m\u001b[0m\u001b[0m\n",
      "\u001b[0;31mKeyboardInterrupt\u001b[0m: "
     ]
    }
   ],
   "source": [
    "parameters = {'C': np.logspace(-5, 10, 50), 'class_weight': ['balanced']}\n",
    "clf = GridSearchCV(LogisticRegression(), parameters, verbose=50, scoring='accuracy', refit=False, cv=5, n_jobs=-1)\n",
    "clf.fit(x_train, train_label)\n",
    "print(clf.best_score_)\n",
    "print(clf.best_estimator_)x_train"
   ]
  },
  {
   "cell_type": "code",
   "execution_count": null,
   "metadata": {
    "collapsed": true
   },
   "outputs": [],
   "source": [
    "C=3.23745754282 0.608335"
   ]
  },
  {
   "cell_type": "code",
   "execution_count": 21,
   "metadata": {
    "collapsed": false
   },
   "outputs": [
    {
     "name": "stdout",
     "output_type": "stream",
     "text": [
      "Fitting 5 folds for each of 1 candidates, totalling 5 fits\n",
      "[CV] C=3.25, class_weight=balanced ...................................\n",
      "[CV] C=3.25, class_weight=balanced ...................................\n",
      "[CV] C=3.25, class_weight=balanced ...................................\n",
      "[CV] C=3.25, class_weight=balanced ...................................\n",
      "[CV] C=3.25, class_weight=balanced ...................................\n",
      "[CV] .......... C=3.25, class_weight=balanced, score=0.603100 -   0.2s\n",
      "[Parallel(n_jobs=-1)]: Done   1 tasks      | elapsed:  4.6min\n",
      "[CV] .......... C=3.25, class_weight=balanced, score=0.607623 -   0.3s\n",
      "[Parallel(n_jobs=-1)]: Done   2 out of   5 | elapsed:  4.6min remaining:  6.9min\n",
      "[CV] .......... C=3.25, class_weight=balanced, score=0.608335 -   0.2s\n",
      "[Parallel(n_jobs=-1)]: Done   3 out of   5 | elapsed:  4.6min remaining:  3.1min\n",
      "[CV] .......... C=3.25, class_weight=balanced, score=0.600985 -   0.2s\n",
      "[CV] .......... C=3.25, class_weight=balanced, score=0.606220 -   0.1s\n",
      "[Parallel(n_jobs=-1)]: Done   5 out of   5 | elapsed:  4.7min remaining:    0.0s\n",
      "[Parallel(n_jobs=-1)]: Done   5 out of   5 | elapsed:  4.7min finished\n",
      "{'C': 3.25, 'class_weight': 'balanced'}\n",
      "0.605252383459\n"
     ]
    }
   ],
   "source": [
    "parameters = {'C': [3.25], 'class_weight': ['balanced']}\n",
    "clf = GridSearchCV(LogisticRegression(), parameters, verbose=50, scoring='accuracy', refit=False, cv=5, n_jobs=-1)\n",
    "clf.fit(x_train, train_label)\n",
    "print(clf.best_params_)\n",
    "print(clf.best_score_)"
   ]
  },
  {
   "cell_type": "code",
   "execution_count": 17,
   "metadata": {
    "collapsed": false
   },
   "outputs": [
    {
     "name": "stdout",
     "output_type": "stream",
     "text": [
      "{'C': 3.2, 'class_weight': 'balanced'}\n",
      "0.60515490047\n"
     ]
    }
   ],
   "source": [
    "print(clf.best_params_)\n",
    "print(clf.best_score_)"
   ]
  },
  {
   "cell_type": "code",
   "execution_count": 22,
   "metadata": {
    "collapsed": false
   },
   "outputs": [
    {
     "name": "stdout",
     "output_type": "stream",
     "text": [
      "{'C': 3.25, 'class_weight': 'balanced'}\n",
      "0.605252383459\n"
     ]
    }
   ],
   "source": [
    "print(clf.best_params_)\n",
    "print(clf.best_score_)"
   ]
  },
  {
   "cell_type": "code",
   "execution_count": 23,
   "metadata": {
    "collapsed": false
   },
   "outputs": [
    {
     "data": {
      "text/plain": [
       "(102582, 1825915)"
      ]
     },
     "execution_count": 23,
     "metadata": {},
     "output_type": "execute_result"
    }
   ],
   "source": [
    "x_train.shape"
   ]
  },
  {
   "cell_type": "code",
   "execution_count": 27,
   "metadata": {
    "collapsed": true
   },
   "outputs": [],
   "source": [
    "fifth = 102582 // 5"
   ]
  },
  {
   "cell_type": "code",
   "execution_count": 56,
   "metadata": {
    "collapsed": false
   },
   "outputs": [],
   "source": [
    "x_train1 = x_train[:fifth]\n",
    "train_label1 = train_label[:fifth]\n",
    "\n",
    "x_train2 = x_train[fifth:2*fifth]\n",
    "train_label2 = train_label[fifth:2*fifth]\n",
    "\n",
    "x_train3 = x_train[2*fifth:3*fifth]\n",
    "train_label3 = train_label[2*fifth:3*fifth]\n",
    "\n",
    "x_train4 = x_train[3*fifth:4*fifth]\n",
    "train_label4 = train_label[3*fifth:4*fifth]\n",
    "\n",
    "x_train5 = x_train[4*fifth:]\n",
    "train_label5 = train_label[4*fifth:]"
   ]
  },
  {
   "cell_type": "code",
   "execution_count": 35,
   "metadata": {
    "collapsed": true
   },
   "outputs": [],
   "source": [
    "clf = LogisticRegression(C=3.25, class_weight='balanced')"
   ]
  },
  {
   "cell_type": "code",
   "execution_count": 62,
   "metadata": {
    "collapsed": false
   },
   "outputs": [
    {
     "data": {
      "text/plain": [
       "(102582, 1825915)"
      ]
     },
     "execution_count": 62,
     "metadata": {},
     "output_type": "execute_result"
    }
   ],
   "source": [
    "vstack([x_train1, x_train2, x_train3, x_train4, x_train5])"
   ]
  },
  {
   "cell_type": "code",
   "execution_count": 65,
   "metadata": {
    "collapsed": false
   },
   "outputs": [
    {
     "data": {
      "text/plain": [
       "(102582,)"
      ]
     },
     "execution_count": 65,
     "metadata": {},
     "output_type": "execute_result"
    }
   ],
   "source": [
    "np.concatenate((train_label1, train_label2, train_label3, train_label4, train_label5), axis=0).shape"
   ]
  },
  {
   "cell_type": "code",
   "execution_count": 81,
   "metadata": {
    "collapsed": false
   },
   "outputs": [],
   "source": [
    "clf.fit(vstack([x_train2, x_train3, x_train4, x_train5]), \n",
    "        np.concatenate((train_label2, train_label3, train_label4, train_label5), axis=0))\n",
    "pred1 = clf.predict_proba(x_train1)"
   ]
  },
  {
   "cell_type": "code",
   "execution_count": 82,
   "metadata": {
    "collapsed": true
   },
   "outputs": [],
   "source": [
    "clf.fit(vstack([x_train1, x_train3, x_train4, x_train5]), \n",
    "        np.concatenate((train_label1, train_label3, train_label4, train_label5), axis=0))\n",
    "pred2 = clf.predict_proba(x_train2)"
   ]
  },
  {
   "cell_type": "code",
   "execution_count": 83,
   "metadata": {
    "collapsed": true
   },
   "outputs": [],
   "source": [
    "clf.fit(vstack([x_train1, x_train2, x_train4, x_train5]), \n",
    "        np.concatenate((train_label1, train_label2, train_label4, train_label5), axis=0))\n",
    "pred3 = clf.predict_proba(x_train3)"
   ]
  },
  {
   "cell_type": "code",
   "execution_count": 84,
   "metadata": {
    "collapsed": true
   },
   "outputs": [],
   "source": [
    "clf.fit(vstack([x_train1, x_train2, x_train3, x_train5]), \n",
    "        np.concatenate((train_label1, train_label2, train_label3, train_label5), axis=0))\n",
    "pred4 = clf.predict_proba(x_train4)"
   ]
  },
  {
   "cell_type": "code",
   "execution_count": 85,
   "metadata": {
    "collapsed": true
   },
   "outputs": [],
   "source": [
    "clf.fit(vstack([x_train1, x_train2, x_train3, x_train4]), \n",
    "        np.concatenate((train_label1, train_label2, train_label3, train_label4), axis=0))\n",
    "pred5 = clf.predict_proba(x_train5)"
   ]
  },
  {
   "cell_type": "code",
   "execution_count": 92,
   "metadata": {
    "collapsed": false
   },
   "outputs": [
    {
     "name": "stdout",
     "output_type": "stream",
     "text": [
      "(102582, 5)\n"
     ]
    }
   ],
   "source": [
    "new_x_train = np.concatenate((pred1, pred2, pred3, pred4, pred5), axis=0)\n",
    "print(new_x_train.shape)"
   ]
  },
  {
   "cell_type": "code",
   "execution_count": 93,
   "metadata": {
    "collapsed": false
   },
   "outputs": [
    {
     "data": {
      "text/plain": [
       "LogisticRegression(C=3.25, class_weight='balanced', dual=False,\n",
       "          fit_intercept=True, intercept_scaling=1, max_iter=100,\n",
       "          multi_class='ovr', n_jobs=1, penalty='l2', random_state=None,\n",
       "          solver='liblinear', tol=0.0001, verbose=0, warm_start=False)"
      ]
     },
     "execution_count": 93,
     "metadata": {},
     "output_type": "execute_result"
    }
   ],
   "source": [
    "clf.fit(x_train, train_label)"
   ]
  },
  {
   "cell_type": "code",
   "execution_count": 95,
   "metadata": {
    "collapsed": false
   },
   "outputs": [
    {
     "name": "stdout",
     "output_type": "stream",
     "text": [
      "(34194, 5)\n"
     ]
    }
   ],
   "source": [
    "new_x_test = clf.predict_proba(x_test)\n",
    "print(new_x_test.shape)"
   ]
  },
  {
   "cell_type": "code",
   "execution_count": 98,
   "metadata": {
    "collapsed": false
   },
   "outputs": [],
   "source": [
    "#serialize(new_x_train, 'new_x_train.pkl')\n",
    "#serialize(new_x_test, 'new_x_test.pkl')"
   ]
  },
  {
   "cell_type": "code",
   "execution_count": 100,
   "metadata": {
    "collapsed": false
   },
   "outputs": [
    {
     "name": "stdout",
     "output_type": "stream",
     "text": [
      "(136776, 5)\n"
     ]
    }
   ],
   "source": [
    "new_x_all = np.concatenate((new_x_train, new_x_test), axis=0)\n",
    "print(new_x_all.shape)"
   ]
  },
  {
   "cell_type": "code",
   "execution_count": 123,
   "metadata": {
    "collapsed": false
   },
   "outputs": [
    {
     "name": "stdout",
     "output_type": "stream",
     "text": [
      "(136776, 21)\n"
     ]
    }
   ],
   "source": [
    "poly = PolynomialFeatures(2)\n",
    "sq_x_all = poly.fit_transform(new_x_all)\n",
    "print(sq_x_all.shape)"
   ]
  },
  {
   "cell_type": "code",
   "execution_count": 124,
   "metadata": {
    "collapsed": false
   },
   "outputs": [
    {
     "name": "stdout",
     "output_type": "stream",
     "text": [
      "(136776, 20)\n"
     ]
    }
   ],
   "source": [
    "sq_x_all = sq_x_all[:, 1:]\n",
    "print(sq_x_all.shape)"
   ]
  },
  {
   "cell_type": "code",
   "execution_count": 125,
   "metadata": {
    "collapsed": true
   },
   "outputs": [],
   "source": [
    "sq_x_train = sq_x_all[:102582]\n",
    "sq_x_test = sq_x_all[102582:]"
   ]
  },
  {
   "cell_type": "code",
   "execution_count": 126,
   "metadata": {
    "collapsed": false
   },
   "outputs": [],
   "source": [
    "#serialize(sq_x_train, 'sq_x_train.pkl')\n",
    "#serialize(sq_x_test, 'sq_x_test.pkl')"
   ]
  },
  {
   "cell_type": "code",
   "execution_count": 132,
   "metadata": {
    "collapsed": false,
    "scrolled": true
   },
   "outputs": [
    {
     "name": "stdout",
     "output_type": "stream",
     "text": [
      "Fitting 5 folds for each of 7 candidates, totalling 35 fits\n",
      "[CV] n_jobs=-1, random_state=42, max_depth=8, n_estimators=100 .......\n",
      "[CV] n_jobs=-1, random_state=42, max_depth=8, n_estimators=100 .......\n",
      "[CV] n_jobs=-1, random_state=42, max_depth=8, n_estimators=100 .......\n",
      "[CV] n_jobs=-1, random_state=42, max_depth=8, n_estimators=100 .......\n",
      "[CV] n_jobs=-1, random_state=42, max_depth=8, n_estimators=100 .......\n",
      "[CV] n_jobs=-1, random_state=42, max_depth=10, n_estimators=100 ......\n",
      "[CV] n_jobs=-1, random_state=42, max_depth=10, n_estimators=100 ......\n",
      "[CV] n_jobs=-1, random_state=42, max_depth=10, n_estimators=100 ......\n",
      "[CV]  n_jobs=-1, random_state=42, max_depth=8, n_estimators=100, score=0.609776 -   0.5s\n",
      "[CV] n_jobs=-1, random_state=42, max_depth=10, n_estimators=100 ......\n",
      "[Parallel(n_jobs=-1)]: Done   1 tasks      | elapsed:   28.7s\n",
      "[CV]  n_jobs=-1, random_state=42, max_depth=8, n_estimators=100, score=0.621009 -   0.3s\n",
      "[CV] n_jobs=-1, random_state=42, max_depth=10, n_estimators=100 ......\n",
      "[CV]  n_jobs=-1, random_state=42, max_depth=8, n_estimators=100, score=0.618530 -   0.5s\n",
      "[CV] n_jobs=-1, random_state=42, max_depth=11, n_estimators=100 ......\n",
      "[Parallel(n_jobs=-1)]: Done   2 tasks      | elapsed:   28.9s\n",
      "[Parallel(n_jobs=-1)]: Done   3 tasks      | elapsed:   29.0s\n",
      "[CV]  n_jobs=-1, random_state=42, max_depth=8, n_estimators=100, score=0.619663 -   0.4s\n",
      "[CV] n_jobs=-1, random_state=42, max_depth=11, n_estimators=100 ......\n",
      "[CV]  n_jobs=-1, random_state=42, max_depth=8, n_estimators=100, score=0.616506 -   0.5s\n",
      "[Parallel(n_jobs=-1)]: Done   4 tasks      | elapsed:   29.2s\n",
      "[Parallel(n_jobs=-1)]: Done   5 tasks      | elapsed:   29.4s\n",
      "[CV] n_jobs=-1, random_state=42, max_depth=11, n_estimators=100 ......\n",
      "[CV]  n_jobs=-1, random_state=42, max_depth=10, n_estimators=100, score=0.609191 -   0.4s\n",
      "[CV] n_jobs=-1, random_state=42, max_depth=11, n_estimators=100 ......\n",
      "[CV]  n_jobs=-1, random_state=42, max_depth=10, n_estimators=100, score=0.618103 -   0.5s\n",
      "[Parallel(n_jobs=-1)]: Done   6 tasks      | elapsed:   32.6s\n",
      "[Parallel(n_jobs=-1)]: Done   7 tasks      | elapsed:   32.8s\n",
      "[CV] n_jobs=-1, random_state=42, max_depth=11, n_estimators=100 ......\n",
      "[CV]  n_jobs=-1, random_state=42, max_depth=10, n_estimators=100, score=0.618725 -   0.6s\n",
      "[CV] n_jobs=-1, random_state=42, max_depth=12, n_estimators=100 ......\n",
      "[Parallel(n_jobs=-1)]: Done   8 tasks      | elapsed:   33.5s\n",
      "[CV]  n_jobs=-1, random_state=42, max_depth=10, n_estimators=100, score=0.620180 -   0.6s\n",
      "[CV] n_jobs=-1, random_state=42, max_depth=12, n_estimators=100 ......\n",
      "[Parallel(n_jobs=-1)]: Done   9 tasks      | elapsed:  1.0min\n",
      "[CV]  n_jobs=-1, random_state=42, max_depth=10, n_estimators=100, score=0.613825 -   0.6s\n",
      "[CV] n_jobs=-1, random_state=42, max_depth=12, n_estimators=100 ......\n",
      "[Parallel(n_jobs=-1)]: Done  10 tasks      | elapsed:  1.0min\n",
      "[CV]  n_jobs=-1, random_state=42, max_depth=11, n_estimators=100, score=0.610848 -   0.4s\n",
      "[CV] n_jobs=-1, random_state=42, max_depth=12, n_estimators=100 ......\n",
      "[Parallel(n_jobs=-1)]: Done  11 tasks      | elapsed:  1.1min\n",
      "[CV]  n_jobs=-1, random_state=42, max_depth=11, n_estimators=100, score=0.617567 -   0.5s\n",
      "[CV] n_jobs=-1, random_state=42, max_depth=12, n_estimators=100 ......\n",
      "[Parallel(n_jobs=-1)]: Done  12 tasks      | elapsed:  1.1min\n",
      "[CV]  n_jobs=-1, random_state=42, max_depth=11, n_estimators=100, score=0.615996 -   0.8s\n",
      "[CV] n_jobs=-1, random_state=42, max_depth=13, n_estimators=100 ......\n",
      "[Parallel(n_jobs=-1)]: Done  13 tasks      | elapsed:  1.1min\n",
      "[CV]  n_jobs=-1, random_state=42, max_depth=11, n_estimators=100, score=0.610510 -   0.6s\n",
      "[CV]  n_jobs=-1, random_state=42, max_depth=11, n_estimators=100, score=0.617694 -   0.6s\n",
      "[CV] n_jobs=-1, random_state=42, max_depth=13, n_estimators=100 ......\n",
      "[CV] n_jobs=-1, random_state=42, max_depth=13, n_estimators=100 ......\n",
      "[Parallel(n_jobs=-1)]: Done  14 tasks      | elapsed:  1.1min\n",
      "[Parallel(n_jobs=-1)]: Done  15 tasks      | elapsed:  1.1min\n",
      "[CV]  n_jobs=-1, random_state=42, max_depth=12, n_estimators=100, score=0.608363 -   0.6s\n",
      "[CV] n_jobs=-1, random_state=42, max_depth=13, n_estimators=100 ......\n",
      "[Parallel(n_jobs=-1)]: Done  16 tasks      | elapsed:  1.2min\n",
      "[CV]  n_jobs=-1, random_state=42, max_depth=12, n_estimators=100, score=0.617421 -   0.6s\n",
      "[CV]  n_jobs=-1, random_state=42, max_depth=12, n_estimators=100, score=0.614387 -   0.6s\n",
      "[CV] n_jobs=-1, random_state=42, max_depth=13, n_estimators=100 ......\n",
      "[CV] n_jobs=-1, random_state=42, max_depth=14, n_estimators=100 ......\n",
      "[Parallel(n_jobs=-1)]: Done  17 tasks      | elapsed:  1.6min\n",
      "[Parallel(n_jobs=-1)]: Done  18 tasks      | elapsed:  1.6min\n",
      "[CV]  n_jobs=-1, random_state=42, max_depth=12, n_estimators=100, score=0.617792 -   0.4s\n",
      "[CV] n_jobs=-1, random_state=42, max_depth=14, n_estimators=100 ......\n",
      "[Parallel(n_jobs=-1)]: Done  19 tasks      | elapsed:  1.7min\n",
      "[CV]  n_jobs=-1, random_state=42, max_depth=12, n_estimators=100, score=0.609584 -   0.7s\n",
      "[CV] n_jobs=-1, random_state=42, max_depth=14, n_estimators=100 ......\n",
      "[Parallel(n_jobs=-1)]: Done  20 tasks      | elapsed:  1.7min\n",
      "[CV]  n_jobs=-1, random_state=42, max_depth=13, n_estimators=100, score=0.604026 -   0.6s\n",
      "[CV] n_jobs=-1, random_state=42, max_depth=14, n_estimators=100 ......\n",
      "[Parallel(n_jobs=-1)]: Done  21 out of  35 | elapsed:  1.7min remaining:  1.1min\n",
      "[CV]  n_jobs=-1, random_state=42, max_depth=13, n_estimators=100, score=0.615422 -   0.6s\n",
      "[CV] n_jobs=-1, random_state=42, max_depth=14, n_estimators=100 ......\n",
      "[Parallel(n_jobs=-1)]: Done  22 out of  35 | elapsed:  1.8min remaining:  1.0min\n",
      "[CV]  n_jobs=-1, random_state=42, max_depth=13, n_estimators=100, score=0.612389 -   0.7s\n",
      "[CV] n_jobs=-1, random_state=42, max_depth=15, n_estimators=100 ......\n",
      "[Parallel(n_jobs=-1)]: Done  23 out of  35 | elapsed:  1.8min remaining:   55.9s\n",
      "[CV]  n_jobs=-1, random_state=42, max_depth=13, n_estimators=100, score=0.617792 -   0.5s\n",
      "[CV] n_jobs=-1, random_state=42, max_depth=15, n_estimators=100 ......\n",
      "[Parallel(n_jobs=-1)]: Done  24 out of  35 | elapsed:  1.8min remaining:   49.7s\n",
      "[CV]  n_jobs=-1, random_state=42, max_depth=13, n_estimators=100, score=0.609047 -   0.6s\n",
      "[CV] n_jobs=-1, random_state=42, max_depth=15, n_estimators=100 ......\n",
      "[Parallel(n_jobs=-1)]: Done  25 out of  35 | elapsed:  2.3min remaining:   55.0s\n",
      "[CV]  n_jobs=-1, random_state=42, max_depth=14, n_estimators=100, score=0.605975 -   0.6s\n",
      "[CV] n_jobs=-1, random_state=42, max_depth=15, n_estimators=100 ......\n",
      "[Parallel(n_jobs=-1)]: Done  26 out of  35 | elapsed:  2.3min remaining:   48.2s\n",
      "[CV]  n_jobs=-1, random_state=42, max_depth=14, n_estimators=100, score=0.609660 -   0.7s\n",
      "[CV] n_jobs=-1, random_state=42, max_depth=15, n_estimators=100 ......\n",
      "[Parallel(n_jobs=-1)]: Done  27 out of  35 | elapsed:  2.4min remaining:   41.9s\n",
      "[CV]  n_jobs=-1, random_state=42, max_depth=14, n_estimators=100, score=0.613667 -   0.7s\n",
      "[Parallel(n_jobs=-1)]: Done  28 out of  35 | elapsed:  2.4min remaining:   35.5s\n",
      "[CV]  n_jobs=-1, random_state=42, max_depth=14, n_estimators=100, score=0.615696 -   0.6s\n",
      "[Parallel(n_jobs=-1)]: Done  29 out of  35 | elapsed:  2.4min remaining:   29.6s\n",
      "[CV]  n_jobs=-1, random_state=42, max_depth=14, n_estimators=100, score=0.608170 -   0.5s\n",
      "[Parallel(n_jobs=-1)]: Done  30 out of  35 | elapsed:  2.4min remaining:   24.1s\n",
      "[CV]  n_jobs=-1, random_state=42, max_depth=15, n_estimators=100, score=0.603197 -   0.4s\n",
      "[Parallel(n_jobs=-1)]: Done  31 out of  35 | elapsed:  2.4min remaining:   18.9s\n",
      "[CV]  n_jobs=-1, random_state=42, max_depth=15, n_estimators=100, score=0.607808 -   0.5s\n",
      "[Parallel(n_jobs=-1)]: Done  32 out of  35 | elapsed:  2.5min remaining:   13.9s\n",
      "[CV]  n_jobs=-1, random_state=42, max_depth=15, n_estimators=100, score=0.611718 -   0.4s\n",
      "[Parallel(n_jobs=-1)]: Done  33 out of  35 | elapsed:  2.6min remaining:    9.6s\n",
      "[CV]  n_jobs=-1, random_state=42, max_depth=15, n_estimators=100, score=0.614282 -   0.3s\n",
      "[CV]  n_jobs=-1, random_state=42, max_depth=15, n_estimators=100, score=0.605294 -   0.2s\n",
      "[Parallel(n_jobs=-1)]: Done  35 out of  35 | elapsed:  2.6min remaining:    0.0s\n",
      "[Parallel(n_jobs=-1)]: Done  35 out of  35 | elapsed:  2.6min finished\n",
      "{'n_jobs': -1, 'random_state': 42, 'max_depth': 8, 'n_estimators': 100}\n",
      "0.617096566649\n"
     ]
    }
   ],
   "source": [
    "parameters = {'n_estimators':[100], 'random_state':[42], 'n_jobs':[-1], 'max_depth':[8, 10, 11, 12, 13, 14, 15]}#, 'max_features':[2, 3, 4, 5, 6, 7, 8, 9, 10, 11, 12, 13, 14, 15, 16, 17, 18, 19, 20]}\n",
    "clf = GridSearchCV(RandomForestClassifier(), parameters, verbose=50, scoring='accuracy', refit=False, cv=5, n_jobs=-1)\n",
    "clf.fit(sq_x_train, train_label)\n",
    "print(clf.best_params_)\n",
    "print(clf.best_score_)"
   ]
  },
  {
   "cell_type": "code",
   "execution_count": 133,
   "metadata": {
    "collapsed": false
   },
   "outputs": [
    {
     "name": "stdout",
     "output_type": "stream",
     "text": [
      "Fitting 5 folds for each of 19 candidates, totalling 95 fits\n",
      "[CV] n_jobs=-1, random_state=42, max_depth=8, n_estimators=100, max_features=2 \n",
      "[CV] n_jobs=-1, random_state=42, max_depth=8, n_estimators=100, max_features=2 \n",
      "[CV] n_jobs=-1, random_state=42, max_depth=8, n_estimators=100, max_features=2 \n",
      "[CV] n_jobs=-1, random_state=42, max_depth=8, n_estimators=100, max_features=2 \n",
      "[CV] n_jobs=-1, random_state=42, max_depth=8, n_estimators=100, max_features=2 \n",
      "[CV] n_jobs=-1, random_state=42, max_depth=8, n_estimators=100, max_features=3 \n",
      "[CV] n_jobs=-1, random_state=42, max_depth=8, n_estimators=100, max_features=3 \n",
      "[CV] n_jobs=-1, random_state=42, max_depth=8, n_estimators=100, max_features=3 \n",
      "[CV]  n_jobs=-1, random_state=42, max_depth=8, n_estimators=100, max_features=2, score=0.617214 -   0.5s\n",
      "[CV] n_jobs=-1, random_state=42, max_depth=8, n_estimators=100, max_features=3 \n",
      "[CV]  n_jobs=-1, random_state=42, max_depth=8, n_estimators=100, max_features=2, score=0.610264 -   0.3s\n",
      "[CV] n_jobs=-1, random_state=42, max_depth=8, n_estimators=100, max_features=3 \n",
      "[Parallel(n_jobs=-1)]: Done   1 tasks      | elapsed:   17.4s\n",
      "[Parallel(n_jobs=-1)]: Done   2 tasks      | elapsed:   17.5s\n",
      "[CV]  n_jobs=-1, random_state=42, max_depth=8, n_estimators=100, max_features=2, score=0.618200 -   0.5s\n",
      "[CV] n_jobs=-1, random_state=42, max_depth=8, n_estimators=100, max_features=4 \n",
      "[CV]  n_jobs=-1, random_state=42, max_depth=8, n_estimators=100, max_features=2, score=0.621155 -   0.4s\n",
      "[CV] n_jobs=-1, random_state=42, max_depth=8, n_estimators=100, max_features=4 \n",
      "[Parallel(n_jobs=-1)]: Done   3 tasks      | elapsed:   17.7s\n",
      "[Parallel(n_jobs=-1)]: Done   4 tasks      | elapsed:   17.8s\n",
      "[CV]  n_jobs=-1, random_state=42, max_depth=8, n_estimators=100, max_features=2, score=0.616847 -   0.5s\n",
      "[CV] n_jobs=-1, random_state=42, max_depth=8, n_estimators=100, max_features=4 \n",
      "[Parallel(n_jobs=-1)]: Done   5 tasks      | elapsed:   18.2s\n",
      "[CV]  n_jobs=-1, random_state=42, max_depth=8, n_estimators=100, max_features=3, score=0.610410 -   0.5s\n",
      "[CV] n_jobs=-1, random_state=42, max_depth=8, n_estimators=100, max_features=4 \n",
      "[Parallel(n_jobs=-1)]: Done   6 tasks      | elapsed:   21.9s\n",
      "[CV]  n_jobs=-1, random_state=42, max_depth=8, n_estimators=100, max_features=3, score=0.618384 -   0.4s\n",
      "[CV] n_jobs=-1, random_state=42, max_depth=8, n_estimators=100, max_features=4 \n",
      "[Parallel(n_jobs=-1)]: Done   7 tasks      | elapsed:   23.5s\n",
      "[CV]  n_jobs=-1, random_state=42, max_depth=8, n_estimators=100, max_features=3, score=0.619322 -   0.5s\n",
      "[CV] n_jobs=-1, random_state=42, max_depth=8, n_estimators=100, max_features=5 \n",
      "[Parallel(n_jobs=-1)]: Done   8 tasks      | elapsed:   23.9s\n",
      "[CV]  n_jobs=-1, random_state=42, max_depth=8, n_estimators=100, max_features=3, score=0.620083 -   0.6s\n",
      "[CV] n_jobs=-1, random_state=42, max_depth=8, n_estimators=100, max_features=5 \n",
      "[Parallel(n_jobs=-1)]: Done   9 tasks      | elapsed:   40.7s\n",
      "[CV]  n_jobs=-1, random_state=42, max_depth=8, n_estimators=100, max_features=3, score=0.615823 -   0.6s\n",
      "[CV] n_jobs=-1, random_state=42, max_depth=8, n_estimators=100, max_features=5 \n",
      "[Parallel(n_jobs=-1)]: Done  10 tasks      | elapsed:   42.2s\n",
      "[CV]  n_jobs=-1, random_state=42, max_depth=8, n_estimators=100, max_features=4, score=0.609776 -   0.5s\n",
      "[CV] n_jobs=-1, random_state=42, max_depth=8, n_estimators=100, max_features=5 \n",
      "[Parallel(n_jobs=-1)]: Done  11 tasks      | elapsed:   47.1s\n",
      "[CV]  n_jobs=-1, random_state=42, max_depth=8, n_estimators=100, max_features=4, score=0.618530 -   0.4s\n",
      "[CV] n_jobs=-1, random_state=42, max_depth=8, n_estimators=100, max_features=5 \n",
      "[CV]  n_jobs=-1, random_state=42, max_depth=8, n_estimators=100, max_features=4, score=0.619663 -   0.6s\n",
      "[CV] n_jobs=-1, random_state=42, max_depth=8, n_estimators=100, max_features=6 \n",
      "[Parallel(n_jobs=-1)]: Done  12 tasks      | elapsed:   47.7s\n",
      "[Parallel(n_jobs=-1)]: Done  13 tasks      | elapsed:   47.9s\n",
      "[CV]  n_jobs=-1, random_state=42, max_depth=8, n_estimators=100, max_features=4, score=0.621009 -   0.6s\n",
      "[CV] n_jobs=-1, random_state=42, max_depth=8, n_estimators=100, max_features=6 \n",
      "[Parallel(n_jobs=-1)]: Done  14 tasks      | elapsed:   52.5s\n",
      "[CV]  n_jobs=-1, random_state=42, max_depth=8, n_estimators=100, max_features=4, score=0.616506 -   0.5s\n",
      "[CV] n_jobs=-1, random_state=42, max_depth=8, n_estimators=100, max_features=6 \n",
      "[Parallel(n_jobs=-1)]: Done  15 tasks      | elapsed:   53.2s\n",
      "[CV]  n_jobs=-1, random_state=42, max_depth=8, n_estimators=100, max_features=5, score=0.609630 -   0.5s\n",
      "[CV] n_jobs=-1, random_state=42, max_depth=8, n_estimators=100, max_features=6 \n",
      "[Parallel(n_jobs=-1)]: Done  16 tasks      | elapsed:   59.7s\n",
      "[CV]  n_jobs=-1, random_state=42, max_depth=8, n_estimators=100, max_features=5, score=0.618335 -   0.6s\n",
      "[CV] n_jobs=-1, random_state=42, max_depth=8, n_estimators=100, max_features=6 \n",
      "[Parallel(n_jobs=-1)]: Done  17 tasks      | elapsed:  1.3min\n",
      "[CV]  n_jobs=-1, random_state=42, max_depth=8, n_estimators=100, max_features=5, score=0.619955 -   0.6s\n",
      "[CV] n_jobs=-1, random_state=42, max_depth=8, n_estimators=100, max_features=7 \n",
      "[Parallel(n_jobs=-1)]: Done  18 tasks      | elapsed:  1.3min\n",
      "[CV]  n_jobs=-1, random_state=42, max_depth=8, n_estimators=100, max_features=5, score=0.620083 -   0.5s\n",
      "[CV] n_jobs=-1, random_state=42, max_depth=8, n_estimators=100, max_features=7 \n",
      "[Parallel(n_jobs=-1)]: Done  19 tasks      | elapsed:  1.4min\n",
      "[CV]  n_jobs=-1, random_state=42, max_depth=8, n_estimators=100, max_features=5, score=0.616701 -   0.5s\n",
      "[CV] n_jobs=-1, random_state=42, max_depth=8, n_estimators=100, max_features=7 \n",
      "[Parallel(n_jobs=-1)]: Done  20 tasks      | elapsed:  1.4min\n",
      "[CV]  n_jobs=-1, random_state=42, max_depth=8, n_estimators=100, max_features=6, score=0.609776 -   0.6s\n",
      "[CV] n_jobs=-1, random_state=42, max_depth=8, n_estimators=100, max_features=7 \n",
      "[Parallel(n_jobs=-1)]: Done  21 tasks      | elapsed:  1.5min\n",
      "[CV]  n_jobs=-1, random_state=42, max_depth=8, n_estimators=100, max_features=6, score=0.617555 -   0.5s\n",
      "[CV]  n_jobs=-1, random_state=42, max_depth=8, n_estimators=100, max_features=6, score=0.618932 -   0.5s\n",
      "[CV] n_jobs=-1, random_state=42, max_depth=8, n_estimators=100, max_features=7 \n",
      "[CV] n_jobs=-1, random_state=42, max_depth=8, n_estimators=100, max_features=8 \n",
      "[Parallel(n_jobs=-1)]: Done  22 tasks      | elapsed:  1.6min\n",
      "[Parallel(n_jobs=-1)]: Done  23 tasks      | elapsed:  1.6min\n",
      "[CV]  n_jobs=-1, random_state=42, max_depth=8, n_estimators=100, max_features=6, score=0.619742 -   0.5s\n",
      "[CV] n_jobs=-1, random_state=42, max_depth=8, n_estimators=100, max_features=8 \n",
      "[Parallel(n_jobs=-1)]: Done  24 tasks      | elapsed:  1.7min\n",
      "[CV]  n_jobs=-1, random_state=42, max_depth=8, n_estimators=100, max_features=6, score=0.614215 -   0.5s\n",
      "[CV] n_jobs=-1, random_state=42, max_depth=8, n_estimators=100, max_features=8 \n",
      "[Parallel(n_jobs=-1)]: Done  25 tasks      | elapsed:  1.9min\n",
      "[CV]  n_jobs=-1, random_state=42, max_depth=8, n_estimators=100, max_features=7, score=0.609533 -   0.5s\n",
      "[CV] n_jobs=-1, random_state=42, max_depth=8, n_estimators=100, max_features=8 \n",
      "[Parallel(n_jobs=-1)]: Done  26 tasks      | elapsed:  2.0min\n",
      "[CV]  n_jobs=-1, random_state=42, max_depth=8, n_estimators=100, max_features=7, score=0.618335 -   0.5s\n",
      "[CV] n_jobs=-1, random_state=42, max_depth=8, n_estimators=100, max_features=8 \n",
      "[Parallel(n_jobs=-1)]: Done  27 tasks      | elapsed:  2.1min\n",
      "[CV]  n_jobs=-1, random_state=42, max_depth=8, n_estimators=100, max_features=7, score=0.620053 -   0.5s\n",
      "[CV] n_jobs=-1, random_state=42, max_depth=8, n_estimators=100, max_features=9 \n",
      "[Parallel(n_jobs=-1)]: Done  28 tasks      | elapsed:  2.2min\n",
      "[CV]  n_jobs=-1, random_state=42, max_depth=8, n_estimators=100, max_features=7, score=0.620668 -   0.5s\n",
      "[CV] n_jobs=-1, random_state=42, max_depth=8, n_estimators=100, max_features=9 \n",
      "[Parallel(n_jobs=-1)]: Done  29 tasks      | elapsed:  2.2min\n",
      "[CV]  n_jobs=-1, random_state=42, max_depth=8, n_estimators=100, max_features=7, score=0.614361 -   0.5s\n",
      "[CV] n_jobs=-1, random_state=42, max_depth=8, n_estimators=100, max_features=9 \n",
      "[Parallel(n_jobs=-1)]: Done  30 tasks      | elapsed:  2.3min\n",
      "[CV]  n_jobs=-1, random_state=42, max_depth=8, n_estimators=100, max_features=8, score=0.609679 -   0.5s\n",
      "[CV] n_jobs=-1, random_state=42, max_depth=8, n_estimators=100, max_features=9 \n",
      "[Parallel(n_jobs=-1)]: Done  31 tasks      | elapsed:  2.4min\n",
      "[CV]  n_jobs=-1, random_state=42, max_depth=8, n_estimators=100, max_features=8, score=0.617994 -   0.6s\n",
      "[CV] n_jobs=-1, random_state=42, max_depth=8, n_estimators=100, max_features=9 \n",
      "[Parallel(n_jobs=-1)]: Done  32 tasks      | elapsed:  2.6min\n",
      "[CV]  n_jobs=-1, random_state=42, max_depth=8, n_estimators=100, max_features=8, score=0.619663 -   0.5s\n",
      "[CV] n_jobs=-1, random_state=42, max_depth=8, n_estimators=100, max_features=10 \n",
      "[Parallel(n_jobs=-1)]: Done  33 tasks      | elapsed:  2.8min\n",
      "[CV]  n_jobs=-1, random_state=42, max_depth=8, n_estimators=100, max_features=8, score=0.620912 -   0.5s\n",
      "[CV] n_jobs=-1, random_state=42, max_depth=8, n_estimators=100, max_features=10 \n",
      "[Parallel(n_jobs=-1)]: Done  34 tasks      | elapsed:  2.9min\n",
      "[CV]  n_jobs=-1, random_state=42, max_depth=8, n_estimators=100, max_features=8, score=0.615580 -   0.5s\n",
      "[CV] n_jobs=-1, random_state=42, max_depth=8, n_estimators=100, max_features=10 \n",
      "[Parallel(n_jobs=-1)]: Done  35 tasks      | elapsed:  3.0min\n",
      "[CV]  n_jobs=-1, random_state=42, max_depth=8, n_estimators=100, max_features=9, score=0.611580 -   0.5s\n",
      "[CV] n_jobs=-1, random_state=42, max_depth=8, n_estimators=100, max_features=10 \n",
      "[Parallel(n_jobs=-1)]: Done  36 tasks      | elapsed:  3.1min\n",
      "[CV]  n_jobs=-1, random_state=42, max_depth=8, n_estimators=100, max_features=9, score=0.617945 -   0.5s\n",
      "[CV] n_jobs=-1, random_state=42, max_depth=8, n_estimators=100, max_features=10 \n",
      "[Parallel(n_jobs=-1)]: Done  37 tasks      | elapsed:  3.2min\n",
      "[CV]  n_jobs=-1, random_state=42, max_depth=8, n_estimators=100, max_features=9, score=0.618542 -   0.5s\n",
      "[CV] n_jobs=-1, random_state=42, max_depth=8, n_estimators=100, max_features=11 \n",
      "[Parallel(n_jobs=-1)]: Done  38 tasks      | elapsed:  3.3min\n",
      "[CV]  n_jobs=-1, random_state=42, max_depth=8, n_estimators=100, max_features=9, score=0.621107 -   0.5s\n",
      "[CV] n_jobs=-1, random_state=42, max_depth=8, n_estimators=100, max_features=11 \n",
      "[Parallel(n_jobs=-1)]: Done  39 tasks      | elapsed:  3.4min\n",
      "[CV]  n_jobs=-1, random_state=42, max_depth=8, n_estimators=100, max_features=9, score=0.614751 -   0.6s\n",
      "[CV] n_jobs=-1, random_state=42, max_depth=8, n_estimators=100, max_features=11 \n",
      "[Parallel(n_jobs=-1)]: Done  40 tasks      | elapsed:  3.5min\n",
      "[CV]  n_jobs=-1, random_state=42, max_depth=8, n_estimators=100, max_features=10, score=0.610361 -   0.5s\n",
      "[CV] n_jobs=-1, random_state=42, max_depth=8, n_estimators=100, max_features=11 \n",
      "[Parallel(n_jobs=-1)]: Done  41 tasks      | elapsed:  3.9min\n",
      "[CV]  n_jobs=-1, random_state=42, max_depth=8, n_estimators=100, max_features=10, score=0.618481 -   0.5s\n",
      "[CV] n_jobs=-1, random_state=42, max_depth=8, n_estimators=100, max_features=11 \n",
      "[Parallel(n_jobs=-1)]: Done  42 tasks      | elapsed:  4.0min\n",
      "[CV]  n_jobs=-1, random_state=42, max_depth=8, n_estimators=100, max_features=10, score=0.619175 -   0.5s\n",
      "[CV] n_jobs=-1, random_state=42, max_depth=8, n_estimators=100, max_features=12 \n",
      "[Parallel(n_jobs=-1)]: Done  43 tasks      | elapsed:  4.1min\n",
      "[CV]  n_jobs=-1, random_state=42, max_depth=8, n_estimators=100, max_features=10, score=0.621058 -   0.5s\n",
      "[CV] n_jobs=-1, random_state=42, max_depth=8, n_estimators=100, max_features=12 \n",
      "[Parallel(n_jobs=-1)]: Done  44 tasks      | elapsed:  4.2min\n",
      "[CV]  n_jobs=-1, random_state=42, max_depth=8, n_estimators=100, max_features=10, score=0.615190 -   0.5s\n",
      "[CV] n_jobs=-1, random_state=42, max_depth=8, n_estimators=100, max_features=12 \n",
      "[Parallel(n_jobs=-1)]: Done  45 tasks      | elapsed:  4.3min\n",
      "[CV]  n_jobs=-1, random_state=42, max_depth=8, n_estimators=100, max_features=11, score=0.609874 -   0.5s\n",
      "[CV] n_jobs=-1, random_state=42, max_depth=8, n_estimators=100, max_features=12 \n",
      "[Parallel(n_jobs=-1)]: Done  46 tasks      | elapsed:  4.5min\n",
      "[CV]  n_jobs=-1, random_state=42, max_depth=8, n_estimators=100, max_features=11, score=0.618725 -   0.5s\n",
      "[CV] n_jobs=-1, random_state=42, max_depth=8, n_estimators=100, max_features=12 \n",
      "[Parallel(n_jobs=-1)]: Done  47 tasks      | elapsed:  4.6min\n",
      "[CV]  n_jobs=-1, random_state=42, max_depth=8, n_estimators=100, max_features=11, score=0.618737 -   0.6s\n",
      "[CV] n_jobs=-1, random_state=42, max_depth=8, n_estimators=100, max_features=13 \n",
      "[Parallel(n_jobs=-1)]: Done  48 tasks      | elapsed:  4.7min\n",
      "[CV]  n_jobs=-1, random_state=42, max_depth=8, n_estimators=100, max_features=11, score=0.619742 -   0.5s\n",
      "[CV] n_jobs=-1, random_state=42, max_depth=8, n_estimators=100, max_features=13 \n",
      "[Parallel(n_jobs=-1)]: Done  49 tasks      | elapsed:  5.1min\n",
      "[CV]  n_jobs=-1, random_state=42, max_depth=8, n_estimators=100, max_features=11, score=0.615482 -   0.6s\n",
      "[CV] n_jobs=-1, random_state=42, max_depth=8, n_estimators=100, max_features=13 \n",
      "[Parallel(n_jobs=-1)]: Done  50 tasks      | elapsed:  5.2min\n",
      "[CV]  n_jobs=-1, random_state=42, max_depth=8, n_estimators=100, max_features=12, score=0.610507 -   0.5s\n",
      "[CV] n_jobs=-1, random_state=42, max_depth=8, n_estimators=100, max_features=13 \n",
      "[Parallel(n_jobs=-1)]: Done  51 tasks      | elapsed:  5.4min\n",
      "[CV]  n_jobs=-1, random_state=42, max_depth=8, n_estimators=100, max_features=12, score=0.618530 -   0.5s\n",
      "[CV] n_jobs=-1, random_state=42, max_depth=8, n_estimators=100, max_features=13 \n",
      "[Parallel(n_jobs=-1)]: Done  52 tasks      | elapsed:  5.5min\n",
      "[CV]  n_jobs=-1, random_state=42, max_depth=8, n_estimators=100, max_features=12, score=0.618785 -   0.5s\n",
      "[CV] n_jobs=-1, random_state=42, max_depth=8, n_estimators=100, max_features=14 \n",
      "[Parallel(n_jobs=-1)]: Done  53 tasks      | elapsed:  5.6min\n",
      "[CV]  n_jobs=-1, random_state=42, max_depth=8, n_estimators=100, max_features=12, score=0.621448 -   0.5s\n",
      "[CV] n_jobs=-1, random_state=42, max_depth=8, n_estimators=100, max_features=14 \n",
      "[Parallel(n_jobs=-1)]: Done  54 tasks      | elapsed:  5.8min\n",
      "[CV]  n_jobs=-1, random_state=42, max_depth=8, n_estimators=100, max_features=12, score=0.616165 -   0.5s\n",
      "[CV] n_jobs=-1, random_state=42, max_depth=8, n_estimators=100, max_features=14 \n",
      "[Parallel(n_jobs=-1)]: Done  55 tasks      | elapsed:  5.9min\n",
      "[CV]  n_jobs=-1, random_state=42, max_depth=8, n_estimators=100, max_features=13, score=0.609971 -   0.5s\n",
      "[CV] n_jobs=-1, random_state=42, max_depth=8, n_estimators=100, max_features=14 \n",
      "[Parallel(n_jobs=-1)]: Done  56 tasks      | elapsed:  6.1min\n",
      "[CV]  n_jobs=-1, random_state=42, max_depth=8, n_estimators=100, max_features=13, score=0.619749 -   0.5s\n",
      "[CV] n_jobs=-1, random_state=42, max_depth=8, n_estimators=100, max_features=14 \n",
      "[Parallel(n_jobs=-1)]: Done  57 tasks      | elapsed:  6.4min\n",
      "[CV]  n_jobs=-1, random_state=42, max_depth=8, n_estimators=100, max_features=13, score=0.618883 -   0.6s\n",
      "[CV] n_jobs=-1, random_state=42, max_depth=8, n_estimators=100, max_features=15 \n",
      "[Parallel(n_jobs=-1)]: Done  58 tasks      | elapsed:  6.6min\n",
      "[CV]  n_jobs=-1, random_state=42, max_depth=8, n_estimators=100, max_features=13, score=0.620473 -   0.5s\n",
      "[CV] n_jobs=-1, random_state=42, max_depth=8, n_estimators=100, max_features=15 \n",
      "[Parallel(n_jobs=-1)]: Done  59 tasks      | elapsed:  6.7min\n",
      "[CV]  n_jobs=-1, random_state=42, max_depth=8, n_estimators=100, max_features=13, score=0.615336 -   0.5s\n",
      "[CV] n_jobs=-1, random_state=42, max_depth=8, n_estimators=100, max_features=15 \n",
      "[Parallel(n_jobs=-1)]: Done  60 tasks      | elapsed:  6.8min\n",
      "[CV]  n_jobs=-1, random_state=42, max_depth=8, n_estimators=100, max_features=14, score=0.609728 -   0.5s\n",
      "[CV] n_jobs=-1, random_state=42, max_depth=8, n_estimators=100, max_features=15 \n",
      "[Parallel(n_jobs=-1)]: Done  61 tasks      | elapsed:  7.0min\n",
      "[CV]  n_jobs=-1, random_state=42, max_depth=8, n_estimators=100, max_features=14, score=0.618579 -   0.6s\n",
      "[CV] n_jobs=-1, random_state=42, max_depth=8, n_estimators=100, max_features=15 \n",
      "[Parallel(n_jobs=-1)]: Done  62 tasks      | elapsed:  7.2min\n",
      "[CV]  n_jobs=-1, random_state=42, max_depth=8, n_estimators=100, max_features=14, score=0.618883 -   0.5s\n",
      "[CV] n_jobs=-1, random_state=42, max_depth=8, n_estimators=100, max_features=16 \n",
      "[Parallel(n_jobs=-1)]: Done  63 tasks      | elapsed:  7.3min\n",
      "[CV]  n_jobs=-1, random_state=42, max_depth=8, n_estimators=100, max_features=14, score=0.620960 -   0.5s\n",
      "[CV] n_jobs=-1, random_state=42, max_depth=8, n_estimators=100, max_features=16 \n",
      "[Parallel(n_jobs=-1)]: Done  64 tasks      | elapsed:  7.5min\n",
      "[CV]  n_jobs=-1, random_state=42, max_depth=8, n_estimators=100, max_features=14, score=0.614312 -   0.6s\n",
      "[CV] n_jobs=-1, random_state=42, max_depth=8, n_estimators=100, max_features=16 \n",
      "[Parallel(n_jobs=-1)]: Done  65 tasks      | elapsed:  7.8min\n",
      "[CV]  n_jobs=-1, random_state=42, max_depth=8, n_estimators=100, max_features=15, score=0.610556 -   0.5s\n",
      "[CV] n_jobs=-1, random_state=42, max_depth=8, n_estimators=100, max_features=16 \n",
      "[Parallel(n_jobs=-1)]: Done  66 tasks      | elapsed:  8.1min\n",
      "[CV]  n_jobs=-1, random_state=42, max_depth=8, n_estimators=100, max_features=15, score=0.619164 -   0.5s\n",
      "[CV] n_jobs=-1, random_state=42, max_depth=8, n_estimators=100, max_features=16 \n",
      "[Parallel(n_jobs=-1)]: Done  67 tasks      | elapsed:  8.3min\n",
      "[CV]  n_jobs=-1, random_state=42, max_depth=8, n_estimators=100, max_features=15, score=0.619175 -   0.6s\n",
      "[CV] n_jobs=-1, random_state=42, max_depth=8, n_estimators=100, max_features=17 \n",
      "[Parallel(n_jobs=-1)]: Done  68 tasks      | elapsed:  8.4min\n",
      "[CV]  n_jobs=-1, random_state=42, max_depth=8, n_estimators=100, max_features=15, score=0.620180 -   0.5s\n",
      "[CV] n_jobs=-1, random_state=42, max_depth=8, n_estimators=100, max_features=17 \n",
      "[Parallel(n_jobs=-1)]: Done  69 tasks      | elapsed:  8.6min\n",
      "[CV]  n_jobs=-1, random_state=42, max_depth=8, n_estimators=100, max_features=15, score=0.614995 -   0.6s\n",
      "[CV] n_jobs=-1, random_state=42, max_depth=8, n_estimators=100, max_features=17 \n",
      "[Parallel(n_jobs=-1)]: Done  70 tasks      | elapsed:  8.7min\n",
      "[CV]  n_jobs=-1, random_state=42, max_depth=8, n_estimators=100, max_features=16, score=0.611190 -   0.5s\n",
      "[CV] n_jobs=-1, random_state=42, max_depth=8, n_estimators=100, max_features=17 \n",
      "[Parallel(n_jobs=-1)]: Done  71 tasks      | elapsed:  9.0min\n",
      "[CV]  n_jobs=-1, random_state=42, max_depth=8, n_estimators=100, max_features=16, score=0.618335 -   0.6s\n",
      "[CV] n_jobs=-1, random_state=42, max_depth=8, n_estimators=100, max_features=17 \n",
      "[Parallel(n_jobs=-1)]: Done  72 tasks      | elapsed:  9.2min\n",
      "[CV]  n_jobs=-1, random_state=42, max_depth=8, n_estimators=100, max_features=16, score=0.619224 -   0.5s\n",
      "[CV] n_jobs=-1, random_state=42, max_depth=8, n_estimators=100, max_features=18 \n",
      "[Parallel(n_jobs=-1)]: Done  73 tasks      | elapsed:  9.5min\n",
      "[CV]  n_jobs=-1, random_state=42, max_depth=8, n_estimators=100, max_features=16, score=0.620180 -   0.5s\n",
      "[CV] n_jobs=-1, random_state=42, max_depth=8, n_estimators=100, max_features=18 \n",
      "[Parallel(n_jobs=-1)]: Done  74 tasks      | elapsed:  9.7min\n",
      "[CV]  n_jobs=-1, random_state=42, max_depth=8, n_estimators=100, max_features=16, score=0.614995 -   0.5s\n",
      "[CV] n_jobs=-1, random_state=42, max_depth=8, n_estimators=100, max_features=18 \n",
      "[Parallel(n_jobs=-1)]: Done  75 tasks      | elapsed:  9.9min\n",
      "[CV]  n_jobs=-1, random_state=42, max_depth=8, n_estimators=100, max_features=17, score=0.610459 -   0.6s\n",
      "[CV] n_jobs=-1, random_state=42, max_depth=8, n_estimators=100, max_features=18 \n",
      "[Parallel(n_jobs=-1)]: Done  76 tasks      | elapsed: 10.1min\n",
      "[CV]  n_jobs=-1, random_state=42, max_depth=8, n_estimators=100, max_features=17, score=0.618676 -   0.5s\n",
      "[CV] n_jobs=-1, random_state=42, max_depth=8, n_estimators=100, max_features=18 \n",
      "[Parallel(n_jobs=-1)]: Done  77 tasks      | elapsed: 10.3min\n",
      "[CV]  n_jobs=-1, random_state=42, max_depth=8, n_estimators=100, max_features=17, score=0.618347 -   0.5s\n",
      "[CV] n_jobs=-1, random_state=42, max_depth=8, n_estimators=100, max_features=19 \n",
      "[Parallel(n_jobs=-1)]: Done  78 tasks      | elapsed: 10.5min\n",
      "[CV]  n_jobs=-1, random_state=42, max_depth=8, n_estimators=100, max_features=17, score=0.620570 -   0.6s\n",
      "[CV] n_jobs=-1, random_state=42, max_depth=8, n_estimators=100, max_features=19 \n",
      "[Parallel(n_jobs=-1)]: Done  79 tasks      | elapsed: 10.7min\n",
      "[CV]  n_jobs=-1, random_state=42, max_depth=8, n_estimators=100, max_features=17, score=0.615385 -   0.5s\n",
      "[CV] n_jobs=-1, random_state=42, max_depth=8, n_estimators=100, max_features=19 \n",
      "[Parallel(n_jobs=-1)]: Done  80 tasks      | elapsed: 10.9min\n",
      "[CV]  n_jobs=-1, random_state=42, max_depth=8, n_estimators=100, max_features=18, score=0.609386 -   0.5s\n",
      "[CV] n_jobs=-1, random_state=42, max_depth=8, n_estimators=100, max_features=19 \n",
      "[CV]  n_jobs=-1, random_state=42, max_depth=8, n_estimators=100, max_features=18, score=0.618530 -   0.5s\n",
      "[CV] n_jobs=-1, random_state=42, max_depth=8, n_estimators=100, max_features=19 \n",
      "[Parallel(n_jobs=-1)]: Done  82 out of  95 | elapsed: 11.6min remaining:  1.8min\n",
      "[CV]  n_jobs=-1, random_state=42, max_depth=8, n_estimators=100, max_features=18, score=0.618444 -   0.5s\n",
      "[CV] n_jobs=-1, random_state=42, max_depth=8, n_estimators=100, max_features=20 \n",
      "[CV]  n_jobs=-1, random_state=42, max_depth=8, n_estimators=100, max_features=18, score=0.620375 -   0.5s\n",
      "[CV] n_jobs=-1, random_state=42, max_depth=8, n_estimators=100, max_features=20 \n",
      "[Parallel(n_jobs=-1)]: Done  84 out of  95 | elapsed: 12.0min remaining:  1.6min\n",
      "[CV]  n_jobs=-1, random_state=42, max_depth=8, n_estimators=100, max_features=18, score=0.614995 -   0.5s\n",
      "[CV] n_jobs=-1, random_state=42, max_depth=8, n_estimators=100, max_features=20 \n",
      "[CV]  n_jobs=-1, random_state=42, max_depth=8, n_estimators=100, max_features=19, score=0.609679 -   0.5s\n",
      "[CV] n_jobs=-1, random_state=42, max_depth=8, n_estimators=100, max_features=20 \n",
      "[Parallel(n_jobs=-1)]: Done  86 out of  95 | elapsed: 12.4min remaining:  1.3min\n",
      "[CV]  n_jobs=-1, random_state=42, max_depth=8, n_estimators=100, max_features=19, score=0.619115 -   0.5s\n",
      "[CV] n_jobs=-1, random_state=42, max_depth=8, n_estimators=100, max_features=20 \n",
      "[CV]  n_jobs=-1, random_state=42, max_depth=8, n_estimators=100, max_features=19, score=0.617713 -   0.5s\n",
      "[Parallel(n_jobs=-1)]: Done  88 out of  95 | elapsed: 12.9min remaining:  1.0min\n",
      "[CV]  n_jobs=-1, random_state=42, max_depth=8, n_estimators=100, max_features=19, score=0.619790 -   0.5s\n",
      "[CV]  n_jobs=-1, random_state=42, max_depth=8, n_estimators=100, max_features=19, score=0.614897 -   0.5s\n",
      "[Parallel(n_jobs=-1)]: Done  90 out of  95 | elapsed: 13.4min remaining:   44.6s\n",
      "[CV]  n_jobs=-1, random_state=42, max_depth=8, n_estimators=100, max_features=20, score=0.610264 -   0.5s\n",
      "[CV]  n_jobs=-1, random_state=42, max_depth=8, n_estimators=100, max_features=20, score=0.619359 -   0.3s\n",
      "[Parallel(n_jobs=-1)]: Done  92 out of  95 | elapsed: 13.7min remaining:   26.8s\n",
      "[CV]  n_jobs=-1, random_state=42, max_depth=8, n_estimators=100, max_features=20, score=0.617079 -   0.3s\n",
      "[CV]  n_jobs=-1, random_state=42, max_depth=8, n_estimators=100, max_features=20, score=0.620717 -   0.3s\n",
      "[CV]  n_jobs=-1, random_state=42, max_depth=8, n_estimators=100, max_features=20, score=0.615238 -   0.1s\n",
      "[Parallel(n_jobs=-1)]: Done  95 out of  95 | elapsed: 13.8min finished\n",
      "{'n_jobs': -1, 'random_state': 42, 'max_depth': 8, 'n_estimators': 100, 'max_features': 4}\n",
      "0.617096566649\n"
     ]
    }
   ],
   "source": [
    "parameters = {'n_estimators':[100], 'random_state':[42], 'n_jobs':[-1], 'max_depth':[8], 'max_features':[2, 3, 4, 5, 6, 7, 8, 9, 10, 11, 12, 13, 14, 15, 16, 17, 18, 19, 20]}\n",
    "clf = GridSearchCV(RandomForestClassifier(), parameters, verbose=50, scoring='accuracy', refit=False, cv=5, n_jobs=-1)\n",
    "clf.fit(sq_x_train, train_label)\n",
    "print(clf.best_params_)\n",
    "print(clf.best_score_)"
   ]
  },
  {
   "cell_type": "code",
   "execution_count": 137,
   "metadata": {
    "collapsed": false,
    "scrolled": true
   },
   "outputs": [
    {
     "name": "stdout",
     "output_type": "stream",
     "text": [
      "Fitting 5 folds for each of 2 candidates, totalling 10 fits\n",
      "[CV] n_jobs=-1, random_state=42, max_depth=8, n_estimators=1000, max_features=4 \n",
      "[CV] n_jobs=-1, random_state=42, max_depth=8, n_estimators=1000, max_features=4 \n",
      "[CV] n_jobs=-1, random_state=42, max_depth=8, n_estimators=1000, max_features=4 \n",
      "[CV] n_jobs=-1, random_state=42, max_depth=8, n_estimators=1000, max_features=4 \n",
      "[CV] n_jobs=-1, random_state=42, max_depth=8, n_estimators=1000, max_features=4 \n",
      "[CV] n_jobs=-1, random_state=42, max_depth=8, n_estimators=2000, max_features=4 \n",
      "[CV] n_jobs=-1, random_state=42, max_depth=8, n_estimators=2000, max_features=4 \n",
      "[CV] n_jobs=-1, random_state=42, max_depth=8, n_estimators=2000, max_features=4 \n",
      "[CV]  n_jobs=-1, random_state=42, max_depth=8, n_estimators=1000, max_features=4, score=0.610361 -   3.2s\n",
      "[CV] n_jobs=-1, random_state=42, max_depth=8, n_estimators=2000, max_features=4 \n",
      "[Parallel(n_jobs=-1)]: Done   1 tasks      | elapsed:  4.8min\n",
      "[CV]  n_jobs=-1, random_state=42, max_depth=8, n_estimators=1000, max_features=4, score=0.620912 -   2.9s\n",
      "[CV] n_jobs=-1, random_state=42, max_depth=8, n_estimators=2000, max_features=4 \n",
      "[Parallel(n_jobs=-1)]: Done   2 out of  10 | elapsed:  4.8min remaining: 19.3min\n",
      "[CV]  n_jobs=-1, random_state=42, max_depth=8, n_estimators=1000, max_features=4, score=0.614751 -   3.0s\n",
      "[CV]  n_jobs=-1, random_state=42, max_depth=8, n_estimators=1000, max_features=4, score=0.618335 -   3.0s\n",
      "[CV]  n_jobs=-1, random_state=42, max_depth=8, n_estimators=1000, max_features=4, score=0.619565 -   3.3s\n",
      "[Parallel(n_jobs=-1)]: Done   3 out of  10 | elapsed:  4.8min remaining: 11.3min\n",
      "[Parallel(n_jobs=-1)]: Done   4 out of  10 | elapsed:  4.8min remaining:  7.3min\n",
      "[Parallel(n_jobs=-1)]: Done   5 out of  10 | elapsed:  4.8min remaining:  4.8min\n",
      "[CV]  n_jobs=-1, random_state=42, max_depth=8, n_estimators=2000, max_features=4, score=0.618774 -   4.1s\n",
      "[Parallel(n_jobs=-1)]: Done   6 out of  10 | elapsed:  7.8min remaining:  5.2min\n",
      "[CV]  n_jobs=-1, random_state=42, max_depth=8, n_estimators=2000, max_features=4, score=0.610361 -   3.7s\n",
      "[Parallel(n_jobs=-1)]: Done   7 out of  10 | elapsed:  7.8min remaining:  3.3min\n",
      "[CV]  n_jobs=-1, random_state=42, max_depth=8, n_estimators=2000, max_features=4, score=0.619273 -   4.4s\n",
      "[Parallel(n_jobs=-1)]: Done   8 out of  10 | elapsed:  7.8min remaining:  1.9min\n",
      "[CV]  n_jobs=-1, random_state=42, max_depth=8, n_estimators=2000, max_features=4, score=0.614751 -   1.5s\n",
      "[CV]  n_jobs=-1, random_state=42, max_depth=8, n_estimators=2000, max_features=4, score=0.620912 -   1.4s\n",
      "[Parallel(n_jobs=-1)]: Done  10 out of  10 | elapsed:  8.9min remaining:    0.0s\n",
      "[Parallel(n_jobs=-1)]: Done  10 out of  10 | elapsed:  8.9min finished\n",
      "{'n_jobs': -1, 'random_state': 42, 'max_depth': 8, 'n_estimators': 2000, 'max_features': 4}\n",
      "0.61681386598\n"
     ]
    }
   ],
   "source": [
    "parameters = {'n_estimators':[1000, 2000], 'random_state':[42], 'n_jobs':[-1], 'max_depth':[8], 'max_features':[4]}\n",
    "clf = GridSearchCV(RandomForestClassifier(), parameters, verbose=50, scoring='accuracy', refit=False, cv=5, n_jobs=-1)\n",
    "clf.fit(sq_x_train, train_label)\n",
    "print(clf.best_params_)\n",
    "print(clf.best_score_)"
   ]
  },
  {
   "cell_type": "code",
   "execution_count": 144,
   "metadata": {
    "collapsed": false
   },
   "outputs": [
    {
     "name": "stdout",
     "output_type": "stream",
     "text": [
      "Fitting 5 folds for each of 1 candidates, totalling 5 fits\n",
      "[CV] n_jobs=-1, random_state=42, max_depth=8, n_estimators=100, max_features=4 \n",
      "[CV] n_jobs=-1, random_state=42, max_depth=8, n_estimators=100, max_features=4 \n",
      "[CV] n_jobs=-1, random_state=42, max_depth=8, n_estimators=100, max_features=4 \n",
      "[CV] n_jobs=-1, random_state=42, max_depth=8, n_estimators=100, max_features=4 \n",
      "[CV] n_jobs=-1, random_state=42, max_depth=8, n_estimators=100, max_features=4 \n",
      "[CV]  n_jobs=-1, random_state=42, max_depth=8, n_estimators=100, max_features=4, score=0.609776 -   0.3s\n",
      "[Parallel(n_jobs=-1)]: Done   1 tasks      | elapsed:   18.0s\n",
      "[CV]  n_jobs=-1, random_state=42, max_depth=8, n_estimators=100, max_features=4, score=0.618530 -   0.3s\n",
      "[CV]  n_jobs=-1, random_state=42, max_depth=8, n_estimators=100, max_features=4, score=0.621009 -   0.3s\n",
      "[CV]  n_jobs=-1, random_state=42, max_depth=8, n_estimators=100, max_features=4, score=0.616506 -   0.3s\n",
      "[CV]  n_jobs=-1, random_state=42, max_depth=8, n_estimators=100, max_features=4, score=0.619663 -   0.3s\n",
      "[Parallel(n_jobs=-1)]: Done   2 out of   5 | elapsed:   18.4s remaining:   27.6s\n",
      "[Parallel(n_jobs=-1)]: Done   3 out of   5 | elapsed:   18.5s remaining:   12.3s\n",
      "[Parallel(n_jobs=-1)]: Done   5 out of   5 | elapsed:   18.5s remaining:    0.0s\n",
      "[Parallel(n_jobs=-1)]: Done   5 out of   5 | elapsed:   18.5s finished\n",
      "{'n_jobs': -1, 'random_state': 42, 'max_depth': 8, 'n_estimators': 100, 'max_features': 4}\n",
      "0.617096566649\n"
     ]
    }
   ],
   "source": [
    "parameters = {'n_estimators':[100], 'random_state':[42], 'n_jobs':[-1], 'max_depth':[8], 'max_features':[4]}\n",
    "clf = GridSearchCV(RandomForestClassifier(), parameters, verbose=50, scoring='accuracy', refit=False, cv=5, n_jobs=-1)\n",
    "clf.fit(sq_x_train, train_label)\n",
    "print(clf.best_params_)\n",
    "print(clf.best_score_)"
   ]
  },
  {
   "cell_type": "code",
   "execution_count": 145,
   "metadata": {
    "collapsed": false,
    "scrolled": true
   },
   "outputs": [
    {
     "name": "stdout",
     "output_type": "stream",
     "text": [
      "Fitting 5 folds for each of 9 candidates, totalling 45 fits\n",
      "[CV] n_jobs=-1, random_state=42, max_depth=8, n_estimators=1000, max_features=2 \n",
      "[CV] n_jobs=-1, random_state=42, max_depth=8, n_estimators=1000, max_features=2 \n",
      "[CV] n_jobs=-1, random_state=42, max_depth=8, n_estimators=1000, max_features=2 \n",
      "[CV] n_jobs=-1, random_state=42, max_depth=8, n_estimators=1000, max_features=2 \n",
      "[CV] n_jobs=-1, random_state=42, max_depth=8, n_estimators=1000, max_features=2 \n",
      "[CV] n_jobs=-1, random_state=42, max_depth=8, n_estimators=1000, max_features=3 \n",
      "[CV] n_jobs=-1, random_state=42, max_depth=8, n_estimators=1000, max_features=3 \n",
      "[CV] n_jobs=-1, random_state=42, max_depth=8, n_estimators=1000, max_features=3 \n",
      "[CV]  n_jobs=-1, random_state=42, max_depth=8, n_estimators=1000, max_features=2, score=0.618676 -   3.6s\n",
      "[CV] n_jobs=-1, random_state=42, max_depth=8, n_estimators=1000, max_features=3 \n",
      "[Parallel(n_jobs=-1)]: Done   1 tasks      | elapsed:  2.9min\n",
      "[CV]  n_jobs=-1, random_state=42, max_depth=8, n_estimators=1000, max_features=2, score=0.618347 -   3.8s\n",
      "[CV] n_jobs=-1, random_state=42, max_depth=8, n_estimators=1000, max_features=3 \n",
      "[Parallel(n_jobs=-1)]: Done   2 tasks      | elapsed:  2.9min\n",
      "[CV]  n_jobs=-1, random_state=42, max_depth=8, n_estimators=1000, max_features=2, score=0.609533 -   3.6s\n",
      "[CV] n_jobs=-1, random_state=42, max_depth=8, n_estimators=1000, max_features=4 \n",
      "[Parallel(n_jobs=-1)]: Done   3 tasks      | elapsed:  2.9min\n",
      "[CV]  n_jobs=-1, random_state=42, max_depth=8, n_estimators=1000, max_features=2, score=0.621399 -   3.8s\n",
      "[CV]  n_jobs=-1, random_state=42, max_depth=8, n_estimators=1000, max_features=2, score=0.615823 -   3.8s\n",
      "[CV] n_jobs=-1, random_state=42, max_depth=8, n_estimators=1000, max_features=4 \n",
      "[CV] n_jobs=-1, random_state=42, max_depth=8, n_estimators=1000, max_features=4 \n",
      "[Parallel(n_jobs=-1)]: Done   4 tasks      | elapsed:  2.9min\n",
      "[Parallel(n_jobs=-1)]: Done   5 tasks      | elapsed:  2.9min\n",
      "[CV]  n_jobs=-1, random_state=42, max_depth=8, n_estimators=1000, max_features=3, score=0.610800 -   3.1s\n",
      "[CV] n_jobs=-1, random_state=42, max_depth=8, n_estimators=1000, max_features=4 \n",
      "[Parallel(n_jobs=-1)]: Done   6 tasks      | elapsed:  3.8min\n",
      "[CV]  n_jobs=-1, random_state=42, max_depth=8, n_estimators=1000, max_features=3, score=0.618871 -   3.3s\n",
      "[CV] n_jobs=-1, random_state=42, max_depth=8, n_estimators=1000, max_features=4 \n",
      "[Parallel(n_jobs=-1)]: Done   7 tasks      | elapsed:  3.9min\n",
      "[CV]  n_jobs=-1, random_state=42, max_depth=8, n_estimators=1000, max_features=3, score=0.619468 -   3.7s\n",
      "[CV] n_jobs=-1, random_state=42, max_depth=8, n_estimators=1000, max_features=5 \n",
      "[Parallel(n_jobs=-1)]: Done   8 tasks      | elapsed:  3.9min\n",
      "[CV]  n_jobs=-1, random_state=42, max_depth=8, n_estimators=1000, max_features=3, score=0.615385 -   3.6s\n",
      "[CV] n_jobs=-1, random_state=42, max_depth=8, n_estimators=1000, max_features=5 \n",
      "[Parallel(n_jobs=-1)]: Done   9 tasks      | elapsed:  6.7min\n",
      "[CV]  n_jobs=-1, random_state=42, max_depth=8, n_estimators=1000, max_features=3, score=0.621350 -   3.5s\n",
      "[CV] n_jobs=-1, random_state=42, max_depth=8, n_estimators=1000, max_features=5 \n",
      "[Parallel(n_jobs=-1)]: Done  10 tasks      | elapsed:  6.7min\n",
      "[CV]  n_jobs=-1, random_state=42, max_depth=8, n_estimators=1000, max_features=4, score=0.610361 -   3.4s\n",
      "[CV] n_jobs=-1, random_state=42, max_depth=8, n_estimators=1000, max_features=5 \n",
      "[Parallel(n_jobs=-1)]: Done  11 tasks      | elapsed:  7.7min\n",
      "[CV]  n_jobs=-1, random_state=42, max_depth=8, n_estimators=1000, max_features=4, score=0.618335 -   3.3s\n",
      "[CV] n_jobs=-1, random_state=42, max_depth=8, n_estimators=1000, max_features=5 \n",
      "[Parallel(n_jobs=-1)]: Done  12 tasks      | elapsed:  7.7min\n",
      "[CV]  n_jobs=-1, random_state=42, max_depth=8, n_estimators=1000, max_features=4, score=0.619565 -   3.1s\n",
      "[CV] n_jobs=-1, random_state=42, max_depth=8, n_estimators=1000, max_features=6 \n",
      "[Parallel(n_jobs=-1)]: Done  13 tasks      | elapsed:  7.7min\n",
      "[CV]  n_jobs=-1, random_state=42, max_depth=8, n_estimators=1000, max_features=4, score=0.620912 -   3.4s\n",
      "[CV] n_jobs=-1, random_state=42, max_depth=8, n_estimators=1000, max_features=6 \n",
      "[Parallel(n_jobs=-1)]: Done  14 tasks      | elapsed:  8.6min\n",
      "[CV]  n_jobs=-1, random_state=42, max_depth=8, n_estimators=1000, max_features=4, score=0.614751 -   3.5s\n",
      "[CV] n_jobs=-1, random_state=42, max_depth=8, n_estimators=1000, max_features=6 \n",
      "[Parallel(n_jobs=-1)]: Done  15 tasks      | elapsed:  8.7min\n",
      "[CV]  n_jobs=-1, random_state=42, max_depth=8, n_estimators=1000, max_features=5, score=0.610312 -   3.3s\n",
      "[CV] n_jobs=-1, random_state=42, max_depth=8, n_estimators=1000, max_features=6 \n",
      "[Parallel(n_jobs=-1)]: Done  16 tasks      | elapsed:  9.6min\n",
      "[CV]  n_jobs=-1, random_state=42, max_depth=8, n_estimators=1000, max_features=5, score=0.619115 -   3.3s\n",
      "[CV] n_jobs=-1, random_state=42, max_depth=8, n_estimators=1000, max_features=6 \n",
      "[Parallel(n_jobs=-1)]: Done  17 tasks      | elapsed: 12.5min\n",
      "[CV]  n_jobs=-1, random_state=42, max_depth=8, n_estimators=1000, max_features=5, score=0.619711 -   3.4s\n",
      "[CV] n_jobs=-1, random_state=42, max_depth=8, n_estimators=1000, max_features=7 \n",
      "[Parallel(n_jobs=-1)]: Done  18 tasks      | elapsed: 12.5min\n",
      "[CV]  n_jobs=-1, random_state=42, max_depth=8, n_estimators=1000, max_features=5, score=0.620863 -   3.2s\n",
      "[CV] n_jobs=-1, random_state=42, max_depth=8, n_estimators=1000, max_features=7 \n",
      "[Parallel(n_jobs=-1)]: Done  19 tasks      | elapsed: 13.5min\n",
      "[CV]  n_jobs=-1, random_state=42, max_depth=8, n_estimators=1000, max_features=5, score=0.615043 -   3.4s\n",
      "[CV] n_jobs=-1, random_state=42, max_depth=8, n_estimators=1000, max_features=7 \n",
      "[Parallel(n_jobs=-1)]: Done  20 tasks      | elapsed: 13.5min\n",
      "[CV]  n_jobs=-1, random_state=42, max_depth=8, n_estimators=1000, max_features=6, score=0.610069 -   3.3s\n",
      "[CV] n_jobs=-1, random_state=42, max_depth=8, n_estimators=1000, max_features=7 \n",
      "[Parallel(n_jobs=-1)]: Done  21 tasks      | elapsed: 14.5min\n",
      "[CV]  n_jobs=-1, random_state=42, max_depth=8, n_estimators=1000, max_features=6, score=0.618433 -   3.6s\n",
      "[CV] n_jobs=-1, random_state=42, max_depth=8, n_estimators=1000, max_features=7 \n",
      "[Parallel(n_jobs=-1)]: Done  22 tasks      | elapsed: 15.5min\n",
      "[CV]  n_jobs=-1, random_state=42, max_depth=8, n_estimators=1000, max_features=6, score=0.620394 -   3.9s\n",
      "[CV] n_jobs=-1, random_state=42, max_depth=8, n_estimators=1000, max_features=8 \n",
      "[Parallel(n_jobs=-1)]: Done  23 tasks      | elapsed: 15.6min\n",
      "[CV]  n_jobs=-1, random_state=42, max_depth=8, n_estimators=1000, max_features=6, score=0.621253 -   3.6s\n",
      "[CV] n_jobs=-1, random_state=42, max_depth=8, n_estimators=1000, max_features=8 \n",
      "[Parallel(n_jobs=-1)]: Done  24 tasks      | elapsed: 16.6min\n",
      "[CV]  n_jobs=-1, random_state=42, max_depth=8, n_estimators=1000, max_features=6, score=0.614946 -   3.6s\n",
      "[CV] n_jobs=-1, random_state=42, max_depth=8, n_estimators=1000, max_features=8 \n",
      "[Parallel(n_jobs=-1)]: Done  25 tasks      | elapsed: 19.6min\n",
      "[CV]  n_jobs=-1, random_state=42, max_depth=8, n_estimators=1000, max_features=7, score=0.610069 -   3.8s\n",
      "[CV] n_jobs=-1, random_state=42, max_depth=8, n_estimators=1000, max_features=8 \n",
      "[Parallel(n_jobs=-1)]: Done  26 tasks      | elapsed: 20.6min\n",
      "[CV]  n_jobs=-1, random_state=42, max_depth=8, n_estimators=1000, max_features=7, score=0.619516 -   3.9s\n",
      "[CV] n_jobs=-1, random_state=42, max_depth=8, n_estimators=1000, max_features=8 \n",
      "[Parallel(n_jobs=-1)]: Done  27 tasks      | elapsed: 21.7min\n",
      "[CV]  n_jobs=-1, random_state=42, max_depth=8, n_estimators=1000, max_features=7, score=0.619212 -   3.4s\n",
      "[CV] n_jobs=-1, random_state=42, max_depth=8, n_estimators=1000, max_features=9 \n",
      "[Parallel(n_jobs=-1)]: Done  28 tasks      | elapsed: 21.8min\n",
      "[CV]  n_jobs=-1, random_state=42, max_depth=8, n_estimators=1000, max_features=7, score=0.621350 -   3.8s\n",
      "[CV] n_jobs=-1, random_state=42, max_depth=8, n_estimators=1000, max_features=9 \n",
      "[Parallel(n_jobs=-1)]: Done  29 tasks      | elapsed: 22.8min\n",
      "[CV]  n_jobs=-1, random_state=42, max_depth=8, n_estimators=1000, max_features=7, score=0.615190 -   4.1s\n",
      "[CV] n_jobs=-1, random_state=42, max_depth=8, n_estimators=1000, max_features=9 \n",
      "[Parallel(n_jobs=-1)]: Done  30 tasks      | elapsed: 23.8min\n",
      "[CV]  n_jobs=-1, random_state=42, max_depth=8, n_estimators=1000, max_features=8, score=0.609825 -   3.3s\n",
      "[CV] n_jobs=-1, random_state=42, max_depth=8, n_estimators=1000, max_features=9 \n",
      "[Parallel(n_jobs=-1)]: Done  31 out of  45 | elapsed: 24.9min remaining: 11.3min\n",
      "[CV]  n_jobs=-1, random_state=42, max_depth=8, n_estimators=1000, max_features=8, score=0.619505 -   3.7s\n",
      "[CV] n_jobs=-1, random_state=42, max_depth=8, n_estimators=1000, max_features=9 \n",
      "[Parallel(n_jobs=-1)]: Done  32 out of  45 | elapsed: 26.0min remaining: 10.6min\n",
      "[CV]  n_jobs=-1, random_state=42, max_depth=8, n_estimators=1000, max_features=8, score=0.619711 -   3.7s\n",
      "[CV] n_jobs=-1, random_state=42, max_depth=8, n_estimators=1000, max_features=10 \n",
      "[Parallel(n_jobs=-1)]: Done  33 out of  45 | elapsed: 29.0min remaining: 10.6min\n",
      "[CV]  n_jobs=-1, random_state=42, max_depth=8, n_estimators=1000, max_features=8, score=0.620619 -   3.3s\n",
      "[CV] n_jobs=-1, random_state=42, max_depth=8, n_estimators=1000, max_features=10 \n",
      "[Parallel(n_jobs=-1)]: Done  34 out of  45 | elapsed: 30.1min remaining:  9.7min\n",
      "[CV]  n_jobs=-1, random_state=42, max_depth=8, n_estimators=1000, max_features=8, score=0.614751 -   3.7s\n",
      "[CV] n_jobs=-1, random_state=42, max_depth=8, n_estimators=1000, max_features=10 \n",
      "[Parallel(n_jobs=-1)]: Done  35 out of  45 | elapsed: 31.2min remaining:  8.9min\n",
      "[CV]  n_jobs=-1, random_state=42, max_depth=8, n_estimators=1000, max_features=9, score=0.609971 -   3.8s\n",
      "[CV] n_jobs=-1, random_state=42, max_depth=8, n_estimators=1000, max_features=10 \n",
      "[Parallel(n_jobs=-1)]: Done  36 out of  45 | elapsed: 32.3min remaining:  8.1min\n",
      "[CV]  n_jobs=-1, random_state=42, max_depth=8, n_estimators=1000, max_features=9, score=0.619164 -   3.7s\n",
      "[CV] n_jobs=-1, random_state=42, max_depth=8, n_estimators=1000, max_features=10 \n",
      "[Parallel(n_jobs=-1)]: Done  37 out of  45 | elapsed: 33.3min remaining:  7.2min\n",
      "[CV]  n_jobs=-1, random_state=42, max_depth=8, n_estimators=1000, max_features=9, score=0.620101 -   3.7s\n",
      "[Parallel(n_jobs=-1)]: Done  38 out of  45 | elapsed: 34.3min remaining:  6.3min\n",
      "[CV]  n_jobs=-1, random_state=42, max_depth=8, n_estimators=1000, max_features=9, score=0.620765 -   3.2s\n",
      "[Parallel(n_jobs=-1)]: Done  39 out of  45 | elapsed: 35.2min remaining:  5.4min\n",
      "[CV]  n_jobs=-1, random_state=42, max_depth=8, n_estimators=1000, max_features=9, score=0.615238 -   2.8s\n",
      "[Parallel(n_jobs=-1)]: Done  40 out of  45 | elapsed: 36.0min remaining:  4.5min\n",
      "[CV]  n_jobs=-1, random_state=42, max_depth=8, n_estimators=1000, max_features=10, score=0.609435 -   2.5s\n",
      "[Parallel(n_jobs=-1)]: Done  41 out of  45 | elapsed: 38.5min remaining:  3.8min\n",
      "[CV]  n_jobs=-1, random_state=42, max_depth=8, n_estimators=1000, max_features=10, score=0.619212 -   2.5s\n",
      "[Parallel(n_jobs=-1)]: Done  42 out of  45 | elapsed: 39.1min remaining:  2.8min\n",
      "[CV]  n_jobs=-1, random_state=42, max_depth=8, n_estimators=1000, max_features=10, score=0.619906 -   1.6s\n",
      "[Parallel(n_jobs=-1)]: Done  43 out of  45 | elapsed: 39.5min remaining:  1.8min\n",
      "[CV]  n_jobs=-1, random_state=42, max_depth=8, n_estimators=1000, max_features=10, score=0.620863 -   1.1s\n",
      "[CV]  n_jobs=-1, random_state=42, max_depth=8, n_estimators=1000, max_features=10, score=0.614410 -   0.5s\n",
      "[Parallel(n_jobs=-1)]: Done  45 out of  45 | elapsed: 39.8min remaining:    0.0s\n",
      "[Parallel(n_jobs=-1)]: Done  45 out of  45 | elapsed: 39.8min finished\n",
      "{'n_jobs': -1, 'random_state': 42, 'max_depth': 8, 'n_estimators': 1000, 'max_features': 3}\n",
      "0.61717455304\n"
     ]
    }
   ],
   "source": [
    "parameters = {'n_estimators':[1000], 'random_state':[42], 'n_jobs':[-1], 'max_depth':[8], 'max_features':[2, 3, 4, 5, 6, 7, 8, 9, 10]}\n",
    "clf = GridSearchCV(RandomForestClassifier(), parameters, verbose=50, scoring='accuracy', refit=False, cv=5, n_jobs=-1)\n",
    "clf.fit(sq_x_train, train_label)\n",
    "print(clf.best_params_)\n",
    "print(clf.best_score_)"
   ]
  },
  {
   "cell_type": "code",
   "execution_count": 149,
   "metadata": {
    "collapsed": false
   },
   "outputs": [
    {
     "data": {
      "text/plain": [
       "RandomForestClassifier(bootstrap=True, class_weight=None, criterion='gini',\n",
       "            max_depth=8, max_features=3, max_leaf_nodes=None,\n",
       "            min_impurity_split=1e-07, min_samples_leaf=1,\n",
       "            min_samples_split=2, min_weight_fraction_leaf=0.0,\n",
       "            n_estimators=1000, n_jobs=-1, oob_score=False, random_state=42,\n",
       "            verbose=0, warm_start=False)"
      ]
     },
     "execution_count": 149,
     "metadata": {},
     "output_type": "execute_result"
    }
   ],
   "source": [
    "clf = RandomForestClassifier(n_estimators=1000, random_state=42, n_jobs=-1,\n",
    "                             max_depth=8, max_features=3)\n",
    "clf.fit(sq_x_train, train_label)"
   ]
  },
  {
   "cell_type": "code",
   "execution_count": 151,
   "metadata": {
    "collapsed": true
   },
   "outputs": [],
   "source": [
    "prediction = clf.predict(sq_x_test)"
   ]
  },
  {
   "cell_type": "code",
   "execution_count": 154,
   "metadata": {
    "collapsed": true
   },
   "outputs": [],
   "source": [
    "writer = csv.writer(open('stacking_logreg.csv', 'w'))\n",
    "writer.writerow(['ID', 'Sentiment'])\n",
    "for id_, prediction in zip(test_id, prediction):\n",
    "    writer.writerow([id_, prediction])"
   ]
  }
 ],
 "metadata": {
  "anaconda-cloud": {},
  "kernelspec": {
   "display_name": "Python 3",
   "language": "python",
   "name": "python3"
  },
  "language_info": {
   "codemirror_mode": {
    "name": "ipython",
    "version": 3
   },
   "file_extension": ".py",
   "mimetype": "text/x-python",
   "name": "python",
   "nbconvert_exporter": "python",
   "pygments_lexer": "ipython3",
   "version": "3.5.2"
  }
 },
 "nbformat": 4,
 "nbformat_minor": 0
}
